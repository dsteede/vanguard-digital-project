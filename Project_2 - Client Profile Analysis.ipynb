{
 "cells": [
  {
   "cell_type": "code",
   "execution_count": 1,
   "id": "bf86eb0a",
   "metadata": {},
   "outputs": [],
   "source": [
    "import pandas as pd\n",
    "import matplotlib.pyplot as plt\n",
    "import seaborn as sns\n",
    "import numpy as np\n",
    "from sqlalchemy import create_engine\n",
    "import mysql.connector\n",
    "import pickle\n",
    "\n",
    "%matplotlib inline"
   ]
  },
  {
   "cell_type": "code",
   "execution_count": null,
   "id": "41f80002",
   "metadata": {},
   "outputs": [],
   "source": [
    "#Demographics like age, gender, and account details of our clients\n",
    "client_profile_df = pd.read_csv('df_final_demo.txt')\n",
    "\n",
    "#A detailed trace of client interactions online\n",
    "digital_footprints_1 = pd.read_csv('df_final_web_data_pt_1.txt')\n",
    "digital_footprints_2 = pd.read_csv('df_final_web_data_pt_2.txt')\n",
    "\n",
    "#A list revealing which clients were part of the grand experiment\n",
    "experiment_roster = pd.read_csv('df_final_experiment_clients.txt')"
   ]
  },
  {
   "cell_type": "code",
   "execution_count": null,
   "id": "5cfbff74",
   "metadata": {
    "scrolled": false
   },
   "outputs": [],
   "source": [
    "client_profile_df"
   ]
  },
  {
   "cell_type": "code",
   "execution_count": null,
   "id": "0e9f728d",
   "metadata": {},
   "outputs": [],
   "source": [
    "client_profile_df.rename(columns = {'clnt_age':'age','gendr':'gender','bal':'balance','clnt_tenure_yr':'tenure_year','clnt_tenure_mnth':'tenure_month'},inplace=True)"
   ]
  },
  {
   "cell_type": "code",
   "execution_count": null,
   "id": "906af54d",
   "metadata": {},
   "outputs": [],
   "source": [
    "client_profile_df.drop('tenure_month', axis=1, inplace=True)"
   ]
  },
  {
   "cell_type": "code",
   "execution_count": null,
   "id": "0710b5fb",
   "metadata": {
    "scrolled": true
   },
   "outputs": [],
   "source": [
    "client_profile_df['logons_6_mnth'].value_counts()"
   ]
  },
  {
   "cell_type": "code",
   "execution_count": null,
   "id": "cf7375ee",
   "metadata": {},
   "outputs": [],
   "source": [
    "client_profile_df.describe().round()"
   ]
  },
  {
   "cell_type": "code",
   "execution_count": null,
   "id": "08b6b782",
   "metadata": {
    "scrolled": true
   },
   "outputs": [],
   "source": [
    "client_profile_df['gender'].value_counts()"
   ]
  },
  {
   "cell_type": "code",
   "execution_count": null,
   "id": "d713d9aa",
   "metadata": {},
   "outputs": [],
   "source": [
    "client_profile_df['gender'] = client_profile_df['gender'].replace('X', 'U')"
   ]
  },
  {
   "cell_type": "code",
   "execution_count": null,
   "id": "1273a8a6",
   "metadata": {},
   "outputs": [],
   "source": [
    "client_profile_df['gender'].value_counts()"
   ]
  },
  {
   "cell_type": "code",
   "execution_count": null,
   "id": "61071dbc",
   "metadata": {
    "scrolled": false
   },
   "outputs": [],
   "source": [
    "bins = [0, 25, 50, 75, 100]  # Adjust the bin edges as needed\n",
    "labels = ['Adolescent', 'Adult', 'Middle Age', 'Senior']\n",
    "\n",
    "client_profile_df['name_age'] = pd.cut(client_profile_df['age'], bins=bins, labels=labels, right=False)\n",
    "\n",
    "group_age = client_profile_df['name_age'].value_counts()\n",
    "\n",
    "group_age.values"
   ]
  },
  {
   "cell_type": "code",
   "execution_count": null,
   "id": "6e2507d1",
   "metadata": {},
   "outputs": [],
   "source": [
    "client_profile_df['name_age'].isnull().sum()"
   ]
  },
  {
   "cell_type": "code",
   "execution_count": null,
   "id": "52070d92",
   "metadata": {},
   "outputs": [],
   "source": [
    "client_profile_df"
   ]
  },
  {
   "cell_type": "code",
   "execution_count": null,
   "id": "7cf38dbd",
   "metadata": {
    "scrolled": false
   },
   "outputs": [],
   "source": [
    "sns.barplot(x=group_age.index, y=group_age.values, palette=\"Set3\");"
   ]
  },
  {
   "cell_type": "markdown",
   "id": "b892dd95",
   "metadata": {},
   "source": [
    "### Conclusion:\n",
    "\n",
    "The majority of clients are between the ages of 30 and 50 with an average of 46 years\n",
    "\n",
    "Although many clients have an unknown gender, we can assume that they are divided fairly equal between male and female\n",
    "\n",
    "The average years in Vanguard is 12 years\n",
    "\n",
    "The average number of accounts per clients is 2 "
   ]
  },
  {
   "cell_type": "code",
   "execution_count": null,
   "id": "18125d49",
   "metadata": {},
   "outputs": [],
   "source": [
    "bins = [0, 3, 6, 9]  # Adjust the bin edges as needed\n",
    "labels = ['Low', 'Average', 'Frequent']\n",
    "\n",
    "client_profile_df['logins'] = pd.cut(client_profile_df['logons_6_mnth'], bins=bins, labels=labels, right=False)\n",
    "\n",
    "primary = client_profile_df['logins'].value_counts()\n",
    "\n",
    "primary.values"
   ]
  },
  {
   "cell_type": "code",
   "execution_count": null,
   "id": "1920eabc",
   "metadata": {},
   "outputs": [],
   "source": [
    "sns.barplot(x=primary.index, y=primary.values, palette=\"Set3\");"
   ]
  },
  {
   "cell_type": "code",
   "execution_count": null,
   "id": "564975fb",
   "metadata": {},
   "outputs": [],
   "source": [
    "filter= client_profile_df[client_profile_df['logons_6_mnth'] > 3]\n",
    "\n",
    "primary_clients = filter[['age','gender','tenure_year','logons_6_mnth']]\n",
    "\n",
    "primary_clients.describe()"
   ]
  },
  {
   "cell_type": "code",
   "execution_count": null,
   "id": "bcae0556",
   "metadata": {},
   "outputs": [],
   "source": [
    "primary_clients.shape"
   ]
  },
  {
   "cell_type": "code",
   "execution_count": null,
   "id": "daf2160e",
   "metadata": {},
   "outputs": [],
   "source": [
    "#The primary clients are older (middle aged) and long standing (average of 12 years)"
   ]
  },
  {
   "cell_type": "code",
   "execution_count": null,
   "id": "1417bed6",
   "metadata": {},
   "outputs": [],
   "source": []
  },
  {
   "cell_type": "markdown",
   "id": "4b53ce9d",
   "metadata": {},
   "source": [
    "### KPIs\n",
    "\n",
    "> Completion Rate: The proportion of users who reach the final ‘confirm’ step.\n",
    "\n",
    "> Time Spent on Each Step: The average duration users spend on each step.\n",
    "\n",
    "> Error Rates: If there’s a step where users go back to a previous step, it may indicate confusion or an error. You should consider moving from a later step to an earlier one as an error.\n",
    "\n",
    "    - Count of steps per visit_id\n",
    "\n",
    "> Number of times a customer tried to complete the steps (number of visit_id per customer)\n",
    "\n",
    "> At which step did the customers 'give up' (Abandonment Rate)\n",
    "\n",
    "> The percentage of users who abandon the process at each step (Drop-off Rate)"
   ]
  },
  {
   "cell_type": "code",
   "execution_count": 2,
   "id": "c3386b12",
   "metadata": {},
   "outputs": [
    {
     "name": "stdout",
     "output_type": "stream",
     "text": [
      "········\n"
     ]
    }
   ],
   "source": [
    "import getpass  # To get the password without showing the input\n",
    "password = getpass.getpass()"
   ]
  },
  {
   "cell_type": "code",
   "execution_count": 3,
   "id": "6a995684",
   "metadata": {},
   "outputs": [],
   "source": [
    "# Connect to MySQL database\n",
    "conn = mysql.connector.connect(host='127.0.0.1', user='root', passwd=password)\n",
    "cursor = conn.cursor()\n",
    "\n",
    "#Select the database\n",
    "cursor.execute(\"USE vanguard\")"
   ]
  },
  {
   "cell_type": "code",
   "execution_count": 5,
   "id": "2e1dfa00",
   "metadata": {},
   "outputs": [],
   "source": [
    "cursor.execute(\"\"\"\n",
    "                    SELECT clients.client_id,\n",
    "                        clients.clnt_age, \n",
    "                        clients.gendr, \n",
    "                        COUNT(distinct(interactions.process_step)) AS count_of_steps,\n",
    "                        group_id.variation\n",
    "                    FROM clients\n",
    "                    JOIN interactions\n",
    "                    ON clients.client_id = interactions.client_id\n",
    "                    INNER JOIN group_id\n",
    "                    ON group_id.client_id = clients.client_id\n",
    "                    GROUP BY clients.client_id, clients.clnt_age, clients.gendr,group_id.variation;\n",
    "\n",
    "                    \"\"\")\n",
    "results = cursor.fetchall()\n",
    "\n",
    "how_far = pd.DataFrame(results)"
   ]
  },
  {
   "cell_type": "code",
   "execution_count": 9,
   "id": "daaa2732",
   "metadata": {},
   "outputs": [
    {
     "data": {
      "text/html": [
       "<div>\n",
       "<style scoped>\n",
       "    .dataframe tbody tr th:only-of-type {\n",
       "        vertical-align: middle;\n",
       "    }\n",
       "\n",
       "    .dataframe tbody tr th {\n",
       "        vertical-align: top;\n",
       "    }\n",
       "\n",
       "    .dataframe thead th {\n",
       "        text-align: right;\n",
       "    }\n",
       "</style>\n",
       "<table border=\"1\" class=\"dataframe\">\n",
       "  <thead>\n",
       "    <tr style=\"text-align: right;\">\n",
       "      <th></th>\n",
       "      <th>0</th>\n",
       "      <th>1</th>\n",
       "      <th>2</th>\n",
       "      <th>3</th>\n",
       "      <th>4</th>\n",
       "    </tr>\n",
       "  </thead>\n",
       "  <tbody>\n",
       "    <tr>\n",
       "      <th>0</th>\n",
       "      <td>1000062</td>\n",
       "      <td>52.5</td>\n",
       "      <td>F</td>\n",
       "      <td>5</td>\n",
       "      <td>Control</td>\n",
       "    </tr>\n",
       "    <tr>\n",
       "      <th>1</th>\n",
       "      <td>1000353</td>\n",
       "      <td>59.0</td>\n",
       "      <td>U</td>\n",
       "      <td>5</td>\n",
       "      <td>Control</td>\n",
       "    </tr>\n",
       "    <tr>\n",
       "      <th>2</th>\n",
       "      <td>1000536</td>\n",
       "      <td>27.0</td>\n",
       "      <td>U</td>\n",
       "      <td>5</td>\n",
       "      <td>Control</td>\n",
       "    </tr>\n",
       "    <tr>\n",
       "      <th>3</th>\n",
       "      <td>1000672</td>\n",
       "      <td>65.5</td>\n",
       "      <td>F</td>\n",
       "      <td>5</td>\n",
       "      <td>Control</td>\n",
       "    </tr>\n",
       "    <tr>\n",
       "      <th>4</th>\n",
       "      <td>1001101</td>\n",
       "      <td>61.5</td>\n",
       "      <td>M</td>\n",
       "      <td>5</td>\n",
       "      <td>Test</td>\n",
       "    </tr>\n",
       "    <tr>\n",
       "      <th>...</th>\n",
       "      <td>...</td>\n",
       "      <td>...</td>\n",
       "      <td>...</td>\n",
       "      <td>...</td>\n",
       "      <td>...</td>\n",
       "    </tr>\n",
       "    <tr>\n",
       "      <th>50495</th>\n",
       "      <td>9999150</td>\n",
       "      <td>30.0</td>\n",
       "      <td>U</td>\n",
       "      <td>2</td>\n",
       "      <td>Test</td>\n",
       "    </tr>\n",
       "    <tr>\n",
       "      <th>50496</th>\n",
       "      <td>9999400</td>\n",
       "      <td>28.5</td>\n",
       "      <td>U</td>\n",
       "      <td>5</td>\n",
       "      <td>Test</td>\n",
       "    </tr>\n",
       "    <tr>\n",
       "      <th>50497</th>\n",
       "      <td>9999626</td>\n",
       "      <td>35.0</td>\n",
       "      <td>M</td>\n",
       "      <td>2</td>\n",
       "      <td>Test</td>\n",
       "    </tr>\n",
       "    <tr>\n",
       "      <th>50498</th>\n",
       "      <td>9999729</td>\n",
       "      <td>31.0</td>\n",
       "      <td>F</td>\n",
       "      <td>5</td>\n",
       "      <td>Test</td>\n",
       "    </tr>\n",
       "    <tr>\n",
       "      <th>50499</th>\n",
       "      <td>9999832</td>\n",
       "      <td>49.0</td>\n",
       "      <td>F</td>\n",
       "      <td>2</td>\n",
       "      <td>Test</td>\n",
       "    </tr>\n",
       "  </tbody>\n",
       "</table>\n",
       "<p>50500 rows × 5 columns</p>\n",
       "</div>"
      ],
      "text/plain": [
       "             0     1  2  3        4\n",
       "0      1000062  52.5  F  5  Control\n",
       "1      1000353  59.0  U  5  Control\n",
       "2      1000536  27.0  U  5  Control\n",
       "3      1000672  65.5  F  5  Control\n",
       "4      1001101  61.5  M  5     Test\n",
       "...        ...   ... .. ..      ...\n",
       "50495  9999150  30.0  U  2     Test\n",
       "50496  9999400  28.5  U  5     Test\n",
       "50497  9999626  35.0  M  2     Test\n",
       "50498  9999729  31.0  F  5     Test\n",
       "50499  9999832  49.0  F  2     Test\n",
       "\n",
       "[50500 rows x 5 columns]"
      ]
     },
     "execution_count": 9,
     "metadata": {},
     "output_type": "execute_result"
    }
   ],
   "source": [
    "how_far"
   ]
  },
  {
   "cell_type": "code",
   "execution_count": 12,
   "id": "1c8cc5bf",
   "metadata": {},
   "outputs": [
    {
     "data": {
      "text/html": [
       "<div>\n",
       "<style scoped>\n",
       "    .dataframe tbody tr th:only-of-type {\n",
       "        vertical-align: middle;\n",
       "    }\n",
       "\n",
       "    .dataframe tbody tr th {\n",
       "        vertical-align: top;\n",
       "    }\n",
       "\n",
       "    .dataframe thead th {\n",
       "        text-align: right;\n",
       "    }\n",
       "</style>\n",
       "<table border=\"1\" class=\"dataframe\">\n",
       "  <thead>\n",
       "    <tr style=\"text-align: right;\">\n",
       "      <th></th>\n",
       "      <th>client_id</th>\n",
       "      <th>age</th>\n",
       "      <th>gender</th>\n",
       "      <th>steps_reached</th>\n",
       "      <th>group_status</th>\n",
       "    </tr>\n",
       "  </thead>\n",
       "  <tbody>\n",
       "    <tr>\n",
       "      <th>0</th>\n",
       "      <td>1000062</td>\n",
       "      <td>52.5</td>\n",
       "      <td>F</td>\n",
       "      <td>5</td>\n",
       "      <td>Control</td>\n",
       "    </tr>\n",
       "    <tr>\n",
       "      <th>1</th>\n",
       "      <td>1000353</td>\n",
       "      <td>59.0</td>\n",
       "      <td>U</td>\n",
       "      <td>5</td>\n",
       "      <td>Control</td>\n",
       "    </tr>\n",
       "    <tr>\n",
       "      <th>2</th>\n",
       "      <td>1000536</td>\n",
       "      <td>27.0</td>\n",
       "      <td>U</td>\n",
       "      <td>5</td>\n",
       "      <td>Control</td>\n",
       "    </tr>\n",
       "    <tr>\n",
       "      <th>3</th>\n",
       "      <td>1000672</td>\n",
       "      <td>65.5</td>\n",
       "      <td>F</td>\n",
       "      <td>5</td>\n",
       "      <td>Control</td>\n",
       "    </tr>\n",
       "    <tr>\n",
       "      <th>4</th>\n",
       "      <td>1001101</td>\n",
       "      <td>61.5</td>\n",
       "      <td>M</td>\n",
       "      <td>5</td>\n",
       "      <td>Test</td>\n",
       "    </tr>\n",
       "    <tr>\n",
       "      <th>...</th>\n",
       "      <td>...</td>\n",
       "      <td>...</td>\n",
       "      <td>...</td>\n",
       "      <td>...</td>\n",
       "      <td>...</td>\n",
       "    </tr>\n",
       "    <tr>\n",
       "      <th>50495</th>\n",
       "      <td>9999150</td>\n",
       "      <td>30.0</td>\n",
       "      <td>U</td>\n",
       "      <td>2</td>\n",
       "      <td>Test</td>\n",
       "    </tr>\n",
       "    <tr>\n",
       "      <th>50496</th>\n",
       "      <td>9999400</td>\n",
       "      <td>28.5</td>\n",
       "      <td>U</td>\n",
       "      <td>5</td>\n",
       "      <td>Test</td>\n",
       "    </tr>\n",
       "    <tr>\n",
       "      <th>50497</th>\n",
       "      <td>9999626</td>\n",
       "      <td>35.0</td>\n",
       "      <td>M</td>\n",
       "      <td>2</td>\n",
       "      <td>Test</td>\n",
       "    </tr>\n",
       "    <tr>\n",
       "      <th>50498</th>\n",
       "      <td>9999729</td>\n",
       "      <td>31.0</td>\n",
       "      <td>F</td>\n",
       "      <td>5</td>\n",
       "      <td>Test</td>\n",
       "    </tr>\n",
       "    <tr>\n",
       "      <th>50499</th>\n",
       "      <td>9999832</td>\n",
       "      <td>49.0</td>\n",
       "      <td>F</td>\n",
       "      <td>2</td>\n",
       "      <td>Test</td>\n",
       "    </tr>\n",
       "  </tbody>\n",
       "</table>\n",
       "<p>50500 rows × 5 columns</p>\n",
       "</div>"
      ],
      "text/plain": [
       "      client_id   age gender  steps_reached group_status\n",
       "0       1000062  52.5      F              5      Control\n",
       "1       1000353  59.0      U              5      Control\n",
       "2       1000536  27.0      U              5      Control\n",
       "3       1000672  65.5      F              5      Control\n",
       "4       1001101  61.5      M              5         Test\n",
       "...         ...   ...    ...            ...          ...\n",
       "50495   9999150  30.0      U              2         Test\n",
       "50496   9999400  28.5      U              5         Test\n",
       "50497   9999626  35.0      M              2         Test\n",
       "50498   9999729  31.0      F              5         Test\n",
       "50499   9999832  49.0      F              2         Test\n",
       "\n",
       "[50500 rows x 5 columns]"
      ]
     },
     "execution_count": 12,
     "metadata": {},
     "output_type": "execute_result"
    }
   ],
   "source": [
    "#rename columns to be descriptive\n",
    "\n",
    "how_far.rename(columns = {0:'client_id',1:'age',2:'gender',3:'steps_reached',4:'group_status'},inplace=True)\n",
    "how_far"
   ]
  },
  {
   "cell_type": "code",
   "execution_count": 14,
   "id": "a47e6e52",
   "metadata": {},
   "outputs": [
    {
     "data": {
      "text/plain": [
       "(steps_reached\n",
       " 5    0.664238\n",
       " 1    0.118436\n",
       " 4    0.093129\n",
       " 2    0.069347\n",
       " 3    0.054851\n",
       " Name: proportion, dtype: float64,\n",
       " steps_reached\n",
       " 5    33544\n",
       " 1     5981\n",
       " 4     4703\n",
       " 2     3502\n",
       " 3     2770\n",
       " Name: count, dtype: int64)"
      ]
     },
     "execution_count": 14,
     "metadata": {},
     "output_type": "execute_result"
    }
   ],
   "source": [
    "# Frequency table \n",
    "frequency_table = how_far['steps_reached'].value_counts()\n",
    "\n",
    "# Calculating the proportion of people that reached and stopped at each step\n",
    "proportion_table = how_far['steps_reached'].value_counts(normalize=True)\n",
    "\n",
    "proportion_table, frequency_table"
   ]
  },
  {
   "cell_type": "code",
   "execution_count": 17,
   "id": "7d65f279",
   "metadata": {},
   "outputs": [
    {
     "data": {
      "text/html": [
       "<div>\n",
       "<style scoped>\n",
       "    .dataframe tbody tr th:only-of-type {\n",
       "        vertical-align: middle;\n",
       "    }\n",
       "\n",
       "    .dataframe tbody tr th {\n",
       "        vertical-align: top;\n",
       "    }\n",
       "\n",
       "    .dataframe thead th {\n",
       "        text-align: right;\n",
       "    }\n",
       "</style>\n",
       "<table border=\"1\" class=\"dataframe\">\n",
       "  <thead>\n",
       "    <tr style=\"text-align: right;\">\n",
       "      <th>col_0</th>\n",
       "      <th>count</th>\n",
       "    </tr>\n",
       "    <tr>\n",
       "      <th>steps_reached</th>\n",
       "      <th></th>\n",
       "    </tr>\n",
       "  </thead>\n",
       "  <tbody>\n",
       "    <tr>\n",
       "      <th>1</th>\n",
       "      <td>5981</td>\n",
       "    </tr>\n",
       "    <tr>\n",
       "      <th>2</th>\n",
       "      <td>3502</td>\n",
       "    </tr>\n",
       "    <tr>\n",
       "      <th>3</th>\n",
       "      <td>2770</td>\n",
       "    </tr>\n",
       "    <tr>\n",
       "      <th>4</th>\n",
       "      <td>4703</td>\n",
       "    </tr>\n",
       "    <tr>\n",
       "      <th>5</th>\n",
       "      <td>33544</td>\n",
       "    </tr>\n",
       "  </tbody>\n",
       "</table>\n",
       "</div>"
      ],
      "text/plain": [
       "col_0          count\n",
       "steps_reached       \n",
       "1               5981\n",
       "2               3502\n",
       "3               2770\n",
       "4               4703\n",
       "5              33544"
      ]
     },
     "execution_count": 17,
     "metadata": {},
     "output_type": "execute_result"
    }
   ],
   "source": [
    "# Creating a crosstab table for the step_reached column, counting occurrences for each unique value\n",
    "my_table = pd.crosstab(index = how_far[\"steps_reached\"],  # Make a crosstab\n",
    "                              columns=\"count\")      # Name the count column\n",
    "my_table"
   ]
  },
  {
   "cell_type": "code",
   "execution_count": 26,
   "id": "177ce7c2",
   "metadata": {},
   "outputs": [
    {
     "data": {
      "text/plain": [
       "steps_reached  group_status\n",
       "5              Test            0.363129\n",
       "               Control         0.301109\n",
       "1              Control         0.065881\n",
       "               Test            0.052554\n",
       "4              Test            0.049762\n",
       "               Control         0.043366\n",
       "2              Test            0.039861\n",
       "               Control         0.029485\n",
       "3              Test            0.028713\n",
       "               Control         0.026139\n",
       "Name: proportion, dtype: float64"
      ]
     },
     "execution_count": 26,
     "metadata": {},
     "output_type": "execute_result"
    }
   ],
   "source": [
    "# Generating a crosstab for steps reached and group_status\n",
    "crosstab_status = pd.crosstab(how_far['steps_reached'], how_far['group_status'])\n",
    "\n",
    "crosstab_status\n",
    "\n",
    "proportion_status = how_far[['steps_reached','group_status']].value_counts(normalize=True)\n",
    "proportion_status"
   ]
  },
  {
   "cell_type": "code",
   "execution_count": 22,
   "id": "15f54bd2",
   "metadata": {},
   "outputs": [
    {
     "data": {
      "text/plain": [
       "(242.18968189355118, 3.132391979694025e-51)"
      ]
     },
     "execution_count": 22,
     "metadata": {},
     "output_type": "execute_result"
    }
   ],
   "source": [
    "from scipy.stats import chi2_contingency\n",
    "\n",
    "# Chi-square test for steps reached and group_status\n",
    "chi2_statistic, chi2_p_value, _, _ = chi2_contingency(crosstab_status)\n",
    "\n",
    "chi2_statistic, chi2_p_value\n",
    "\n",
    "#chi2_statistic = statistically significant\n",
    "#chi2_p_value = indicates a statistically significant association between the groups and their progress in the process."
   ]
  },
  {
   "cell_type": "code",
   "execution_count": 33,
   "id": "e9473d83",
   "metadata": {},
   "outputs": [
    {
     "data": {
      "text/plain": [
       "<Axes: xlabel='steps_reached'>"
      ]
     },
     "execution_count": 33,
     "metadata": {},
     "output_type": "execute_result"
    },
    {
     "data": {
      "image/png": "[encoded data removed]",
      "text/plain": [
       "<Figure size 640x480 with 1 Axes>"
      ]
     },
     "metadata": {},
     "output_type": "display_data"
    },
    {
     "data": {
      "image/png": "[encoded data removed]",
      "text/plain": [
       "<Figure size 640x480 with 1 Axes>"
      ]
     },
     "metadata": {},
     "output_type": "display_data"
    }
   ],
   "source": [
    "#stacked bar with test groups\n",
    "crosstab_status.plot(kind=\"bar\", stacked=True)\n",
    "\n",
    "#bar with test groups\n",
    "crosstab_status.plot(kind=\"bar\", stacked=False)"
   ]
  },
  {
   "cell_type": "code",
   "execution_count": 44,
   "id": "a74a330b",
   "metadata": {},
   "outputs": [
    {
     "data": {
      "text/plain": [
       "<Axes: xlabel='steps_reached,group_status'>"
      ]
     },
     "execution_count": 44,
     "metadata": {},
     "output_type": "execute_result"
    },
    {
     "data": {
      "image/png": "[encoded data removed]",
      "text/plain": [
       "<Figure size 640x480 with 1 Axes>"
      ]
     },
     "metadata": {},
     "output_type": "display_data"
    }
   ],
   "source": [
    "#bar with test groups proportions\n",
    "proportion_status.plot(kind=\"bar\")\n"
   ]
  },
  {
   "cell_type": "code",
   "execution_count": 18,
   "id": "4e0be3f9",
   "metadata": {},
   "outputs": [
    {
     "name": "stderr",
     "output_type": "stream",
     "text": [
      "C:\\Users\\NessaJay\\AppData\\Local\\Temp\\ipykernel_28648\\3628697404.py:1: FutureWarning: \n",
      "\n",
      "Passing `palette` without assigning `hue` is deprecated and will be removed in v0.14.0. Assign the `x` variable to `hue` and set `legend=False` for the same effect.\n",
      "\n",
      "  sns.barplot(x=frequency_table.index, y=frequency_table.values, palette=\"Set3\");\n"
     ]
    },
    {
     "data": {
      "image/png": "[encoded data removed]",
      "text/plain": [
       "<Figure size 640x480 with 1 Axes>"
      ]
     },
     "metadata": {},
     "output_type": "display_data"
    }
   ],
   "source": [
    "# graph regardless of test group\n",
    "sns.barplot(x=frequency_table.index, y=frequency_table.values, palette=\"Set3\");"
   ]
  },
  {
   "cell_type": "markdown",
   "id": "79458b79",
   "metadata": {},
   "source": [
    "##### Abandonment rate\n",
    "\n",
    "Abandonment rate refers to the percentage of tasks users start but don't complete—such as leaving a survey midway, or adding an item to an online shopping cart but not purchasing. It’s a popular metric in the ecommerce industry, specifically for calculating cart abandonment rate.\n",
    "\n",
    "How to calculate abandonment rate\n",
    "Abandonment rate = (Number of intended tasks completed) / (Number of intended tasks initiated) x 100\n",
    "\n",
    "How to calculate cart abandonment rate for ecommerce stores\n",
    "\n",
    "Cart abandonment rate = (Number of carts abandoned / Number of orders initiated) x 100"
   ]
  },
  {
   "cell_type": "code",
   "execution_count": null,
   "id": "a5892125",
   "metadata": {},
   "outputs": [],
   "source": []
  }
 ],
 "metadata": {
  "kernelspec": {
   "display_name": "Python 3 (ipykernel)",
   "language": "python",
   "name": "python3"
  },
  "language_info": {
   "codemirror_mode": {
    "name": "ipython",
    "version": 3
   },
   "file_extension": ".py",
   "mimetype": "text/x-python",
   "name": "python",
   "nbconvert_exporter": "python",
   "pygments_lexer": "ipython3",
   "version": "3.11.7"
  }
 },
 "nbformat": 4,
 "nbformat_minor": 5
}
