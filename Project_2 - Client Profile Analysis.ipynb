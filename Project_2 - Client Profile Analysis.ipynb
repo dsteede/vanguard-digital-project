{
 "cells": [
  {
   "cell_type": "code",
   "execution_count": 1,
   "id": "bf86eb0a",
   "metadata": {},
   "outputs": [],
   "source": [
    "import pandas as pd\n",
    "import matplotlib.pyplot as plt\n",
    "import seaborn as sns\n",
    "import numpy as np\n",
    "from sqlalchemy import create_engine\n",
    "import mysql.connector\n",
    "import pickle\n",
    "\n",
    "%matplotlib inline"
   ]
  },
  {
   "cell_type": "code",
   "execution_count": 2,
   "id": "41f80002",
   "metadata": {},
   "outputs": [
    {
     "ename": "FileNotFoundError",
     "evalue": "[Errno 2] No such file or directory: 'df_final_demo.txt'",
     "output_type": "error",
     "traceback": [
      "\u001b[1;31m---------------------------------------------------------------------------\u001b[0m",
      "\u001b[1;31mFileNotFoundError\u001b[0m                         Traceback (most recent call last)",
      "Cell \u001b[1;32mIn[2], line 2\u001b[0m\n\u001b[0;32m      1\u001b[0m \u001b[38;5;66;03m#Demographics like age, gender, and account details of our clients\u001b[39;00m\n\u001b[1;32m----> 2\u001b[0m client_profile_df \u001b[38;5;241m=\u001b[39m pd\u001b[38;5;241m.\u001b[39mread_csv(\u001b[38;5;124m'\u001b[39m\u001b[38;5;124mdf_final_demo.txt\u001b[39m\u001b[38;5;124m'\u001b[39m)\n\u001b[0;32m      4\u001b[0m \u001b[38;5;66;03m#A detailed trace of client interactions online\u001b[39;00m\n\u001b[0;32m      5\u001b[0m digital_footprints_1 \u001b[38;5;241m=\u001b[39m pd\u001b[38;5;241m.\u001b[39mread_csv(\u001b[38;5;124m'\u001b[39m\u001b[38;5;124mdf_final_web_data_pt_1.txt\u001b[39m\u001b[38;5;124m'\u001b[39m)\n",
      "File \u001b[1;32m~\\anaconda3\\Lib\\site-packages\\pandas\\io\\parsers\\readers.py:948\u001b[0m, in \u001b[0;36mread_csv\u001b[1;34m(filepath_or_buffer, sep, delimiter, header, names, index_col, usecols, dtype, engine, converters, true_values, false_values, skipinitialspace, skiprows, skipfooter, nrows, na_values, keep_default_na, na_filter, verbose, skip_blank_lines, parse_dates, infer_datetime_format, keep_date_col, date_parser, date_format, dayfirst, cache_dates, iterator, chunksize, compression, thousands, decimal, lineterminator, quotechar, quoting, doublequote, escapechar, comment, encoding, encoding_errors, dialect, on_bad_lines, delim_whitespace, low_memory, memory_map, float_precision, storage_options, dtype_backend)\u001b[0m\n\u001b[0;32m    935\u001b[0m kwds_defaults \u001b[38;5;241m=\u001b[39m _refine_defaults_read(\n\u001b[0;32m    936\u001b[0m     dialect,\n\u001b[0;32m    937\u001b[0m     delimiter,\n\u001b[1;32m   (...)\u001b[0m\n\u001b[0;32m    944\u001b[0m     dtype_backend\u001b[38;5;241m=\u001b[39mdtype_backend,\n\u001b[0;32m    945\u001b[0m )\n\u001b[0;32m    946\u001b[0m kwds\u001b[38;5;241m.\u001b[39mupdate(kwds_defaults)\n\u001b[1;32m--> 948\u001b[0m \u001b[38;5;28;01mreturn\u001b[39;00m _read(filepath_or_buffer, kwds)\n",
      "File \u001b[1;32m~\\anaconda3\\Lib\\site-packages\\pandas\\io\\parsers\\readers.py:611\u001b[0m, in \u001b[0;36m_read\u001b[1;34m(filepath_or_buffer, kwds)\u001b[0m\n\u001b[0;32m    608\u001b[0m _validate_names(kwds\u001b[38;5;241m.\u001b[39mget(\u001b[38;5;124m\"\u001b[39m\u001b[38;5;124mnames\u001b[39m\u001b[38;5;124m\"\u001b[39m, \u001b[38;5;28;01mNone\u001b[39;00m))\n\u001b[0;32m    610\u001b[0m \u001b[38;5;66;03m# Create the parser.\u001b[39;00m\n\u001b[1;32m--> 611\u001b[0m parser \u001b[38;5;241m=\u001b[39m TextFileReader(filepath_or_buffer, \u001b[38;5;241m*\u001b[39m\u001b[38;5;241m*\u001b[39mkwds)\n\u001b[0;32m    613\u001b[0m \u001b[38;5;28;01mif\u001b[39;00m chunksize \u001b[38;5;129;01mor\u001b[39;00m iterator:\n\u001b[0;32m    614\u001b[0m     \u001b[38;5;28;01mreturn\u001b[39;00m parser\n",
      "File \u001b[1;32m~\\anaconda3\\Lib\\site-packages\\pandas\\io\\parsers\\readers.py:1448\u001b[0m, in \u001b[0;36mTextFileReader.__init__\u001b[1;34m(self, f, engine, **kwds)\u001b[0m\n\u001b[0;32m   1445\u001b[0m     \u001b[38;5;28mself\u001b[39m\u001b[38;5;241m.\u001b[39moptions[\u001b[38;5;124m\"\u001b[39m\u001b[38;5;124mhas_index_names\u001b[39m\u001b[38;5;124m\"\u001b[39m] \u001b[38;5;241m=\u001b[39m kwds[\u001b[38;5;124m\"\u001b[39m\u001b[38;5;124mhas_index_names\u001b[39m\u001b[38;5;124m\"\u001b[39m]\n\u001b[0;32m   1447\u001b[0m \u001b[38;5;28mself\u001b[39m\u001b[38;5;241m.\u001b[39mhandles: IOHandles \u001b[38;5;241m|\u001b[39m \u001b[38;5;28;01mNone\u001b[39;00m \u001b[38;5;241m=\u001b[39m \u001b[38;5;28;01mNone\u001b[39;00m\n\u001b[1;32m-> 1448\u001b[0m \u001b[38;5;28mself\u001b[39m\u001b[38;5;241m.\u001b[39m_engine \u001b[38;5;241m=\u001b[39m \u001b[38;5;28mself\u001b[39m\u001b[38;5;241m.\u001b[39m_make_engine(f, \u001b[38;5;28mself\u001b[39m\u001b[38;5;241m.\u001b[39mengine)\n",
      "File \u001b[1;32m~\\anaconda3\\Lib\\site-packages\\pandas\\io\\parsers\\readers.py:1705\u001b[0m, in \u001b[0;36mTextFileReader._make_engine\u001b[1;34m(self, f, engine)\u001b[0m\n\u001b[0;32m   1703\u001b[0m     \u001b[38;5;28;01mif\u001b[39;00m \u001b[38;5;124m\"\u001b[39m\u001b[38;5;124mb\u001b[39m\u001b[38;5;124m\"\u001b[39m \u001b[38;5;129;01mnot\u001b[39;00m \u001b[38;5;129;01min\u001b[39;00m mode:\n\u001b[0;32m   1704\u001b[0m         mode \u001b[38;5;241m+\u001b[39m\u001b[38;5;241m=\u001b[39m \u001b[38;5;124m\"\u001b[39m\u001b[38;5;124mb\u001b[39m\u001b[38;5;124m\"\u001b[39m\n\u001b[1;32m-> 1705\u001b[0m \u001b[38;5;28mself\u001b[39m\u001b[38;5;241m.\u001b[39mhandles \u001b[38;5;241m=\u001b[39m get_handle(\n\u001b[0;32m   1706\u001b[0m     f,\n\u001b[0;32m   1707\u001b[0m     mode,\n\u001b[0;32m   1708\u001b[0m     encoding\u001b[38;5;241m=\u001b[39m\u001b[38;5;28mself\u001b[39m\u001b[38;5;241m.\u001b[39moptions\u001b[38;5;241m.\u001b[39mget(\u001b[38;5;124m\"\u001b[39m\u001b[38;5;124mencoding\u001b[39m\u001b[38;5;124m\"\u001b[39m, \u001b[38;5;28;01mNone\u001b[39;00m),\n\u001b[0;32m   1709\u001b[0m     compression\u001b[38;5;241m=\u001b[39m\u001b[38;5;28mself\u001b[39m\u001b[38;5;241m.\u001b[39moptions\u001b[38;5;241m.\u001b[39mget(\u001b[38;5;124m\"\u001b[39m\u001b[38;5;124mcompression\u001b[39m\u001b[38;5;124m\"\u001b[39m, \u001b[38;5;28;01mNone\u001b[39;00m),\n\u001b[0;32m   1710\u001b[0m     memory_map\u001b[38;5;241m=\u001b[39m\u001b[38;5;28mself\u001b[39m\u001b[38;5;241m.\u001b[39moptions\u001b[38;5;241m.\u001b[39mget(\u001b[38;5;124m\"\u001b[39m\u001b[38;5;124mmemory_map\u001b[39m\u001b[38;5;124m\"\u001b[39m, \u001b[38;5;28;01mFalse\u001b[39;00m),\n\u001b[0;32m   1711\u001b[0m     is_text\u001b[38;5;241m=\u001b[39mis_text,\n\u001b[0;32m   1712\u001b[0m     errors\u001b[38;5;241m=\u001b[39m\u001b[38;5;28mself\u001b[39m\u001b[38;5;241m.\u001b[39moptions\u001b[38;5;241m.\u001b[39mget(\u001b[38;5;124m\"\u001b[39m\u001b[38;5;124mencoding_errors\u001b[39m\u001b[38;5;124m\"\u001b[39m, \u001b[38;5;124m\"\u001b[39m\u001b[38;5;124mstrict\u001b[39m\u001b[38;5;124m\"\u001b[39m),\n\u001b[0;32m   1713\u001b[0m     storage_options\u001b[38;5;241m=\u001b[39m\u001b[38;5;28mself\u001b[39m\u001b[38;5;241m.\u001b[39moptions\u001b[38;5;241m.\u001b[39mget(\u001b[38;5;124m\"\u001b[39m\u001b[38;5;124mstorage_options\u001b[39m\u001b[38;5;124m\"\u001b[39m, \u001b[38;5;28;01mNone\u001b[39;00m),\n\u001b[0;32m   1714\u001b[0m )\n\u001b[0;32m   1715\u001b[0m \u001b[38;5;28;01massert\u001b[39;00m \u001b[38;5;28mself\u001b[39m\u001b[38;5;241m.\u001b[39mhandles \u001b[38;5;129;01mis\u001b[39;00m \u001b[38;5;129;01mnot\u001b[39;00m \u001b[38;5;28;01mNone\u001b[39;00m\n\u001b[0;32m   1716\u001b[0m f \u001b[38;5;241m=\u001b[39m \u001b[38;5;28mself\u001b[39m\u001b[38;5;241m.\u001b[39mhandles\u001b[38;5;241m.\u001b[39mhandle\n",
      "File \u001b[1;32m~\\anaconda3\\Lib\\site-packages\\pandas\\io\\common.py:863\u001b[0m, in \u001b[0;36mget_handle\u001b[1;34m(path_or_buf, mode, encoding, compression, memory_map, is_text, errors, storage_options)\u001b[0m\n\u001b[0;32m    858\u001b[0m \u001b[38;5;28;01melif\u001b[39;00m \u001b[38;5;28misinstance\u001b[39m(handle, \u001b[38;5;28mstr\u001b[39m):\n\u001b[0;32m    859\u001b[0m     \u001b[38;5;66;03m# Check whether the filename is to be opened in binary mode.\u001b[39;00m\n\u001b[0;32m    860\u001b[0m     \u001b[38;5;66;03m# Binary mode does not support 'encoding' and 'newline'.\u001b[39;00m\n\u001b[0;32m    861\u001b[0m     \u001b[38;5;28;01mif\u001b[39;00m ioargs\u001b[38;5;241m.\u001b[39mencoding \u001b[38;5;129;01mand\u001b[39;00m \u001b[38;5;124m\"\u001b[39m\u001b[38;5;124mb\u001b[39m\u001b[38;5;124m\"\u001b[39m \u001b[38;5;129;01mnot\u001b[39;00m \u001b[38;5;129;01min\u001b[39;00m ioargs\u001b[38;5;241m.\u001b[39mmode:\n\u001b[0;32m    862\u001b[0m         \u001b[38;5;66;03m# Encoding\u001b[39;00m\n\u001b[1;32m--> 863\u001b[0m         handle \u001b[38;5;241m=\u001b[39m \u001b[38;5;28mopen\u001b[39m(\n\u001b[0;32m    864\u001b[0m             handle,\n\u001b[0;32m    865\u001b[0m             ioargs\u001b[38;5;241m.\u001b[39mmode,\n\u001b[0;32m    866\u001b[0m             encoding\u001b[38;5;241m=\u001b[39mioargs\u001b[38;5;241m.\u001b[39mencoding,\n\u001b[0;32m    867\u001b[0m             errors\u001b[38;5;241m=\u001b[39merrors,\n\u001b[0;32m    868\u001b[0m             newline\u001b[38;5;241m=\u001b[39m\u001b[38;5;124m\"\u001b[39m\u001b[38;5;124m\"\u001b[39m,\n\u001b[0;32m    869\u001b[0m         )\n\u001b[0;32m    870\u001b[0m     \u001b[38;5;28;01melse\u001b[39;00m:\n\u001b[0;32m    871\u001b[0m         \u001b[38;5;66;03m# Binary mode\u001b[39;00m\n\u001b[0;32m    872\u001b[0m         handle \u001b[38;5;241m=\u001b[39m \u001b[38;5;28mopen\u001b[39m(handle, ioargs\u001b[38;5;241m.\u001b[39mmode)\n",
      "\u001b[1;31mFileNotFoundError\u001b[0m: [Errno 2] No such file or directory: 'df_final_demo.txt'"
     ]
    }
   ],
   "source": [
    "#Demographics like age, gender, and account details of our clients\n",
    "client_profile_df = pd.read_csv('df_final_demo.txt')\n",
    "\n",
    "#A detailed trace of client interactions online\n",
    "digital_footprints_1 = pd.read_csv('df_final_web_data_pt_1.txt')\n",
    "digital_footprints_2 = pd.read_csv('df_final_web_data_pt_2.txt')\n",
    "\n",
    "#A list revealing which clients were part of the grand experiment\n",
    "experiment_roster = pd.read_csv('df_final_experiment_clients.txt')"
   ]
  },
  {
   "cell_type": "code",
   "execution_count": null,
   "id": "5cfbff74",
   "metadata": {
    "scrolled": false
   },
   "outputs": [],
   "source": [
    "client_profile_df"
   ]
  },
  {
   "cell_type": "code",
   "execution_count": null,
   "id": "0e9f728d",
   "metadata": {},
   "outputs": [],
   "source": [
    "client_profile_df.rename(columns = {'clnt_age':'age','gendr':'gender','bal':'balance','clnt_tenure_yr':'tenure_year','clnt_tenure_mnth':'tenure_month'},inplace=True)"
   ]
  },
  {
   "cell_type": "code",
   "execution_count": null,
   "id": "906af54d",
   "metadata": {},
   "outputs": [],
   "source": [
    "client_profile_df.drop('tenure_month', axis=1, inplace=True)"
   ]
  },
  {
   "cell_type": "code",
   "execution_count": null,
   "id": "0710b5fb",
   "metadata": {
    "scrolled": true
   },
   "outputs": [],
   "source": [
    "client_profile_df['logons_6_mnth'].value_counts()"
   ]
  },
  {
   "cell_type": "code",
   "execution_count": null,
   "id": "cf7375ee",
   "metadata": {},
   "outputs": [],
   "source": [
    "client_profile_df.describe().round()"
   ]
  },
  {
   "cell_type": "code",
   "execution_count": null,
   "id": "08b6b782",
   "metadata": {
    "scrolled": true
   },
   "outputs": [],
   "source": [
    "client_profile_df['gender'].value_counts()"
   ]
  },
  {
   "cell_type": "code",
   "execution_count": null,
   "id": "d713d9aa",
   "metadata": {},
   "outputs": [],
   "source": [
    "client_profile_df['gender'] = client_profile_df['gender'].replace('X', 'U')"
   ]
  },
  {
   "cell_type": "code",
   "execution_count": null,
   "id": "1273a8a6",
   "metadata": {},
   "outputs": [],
   "source": [
    "client_profile_df['gender'].value_counts()"
   ]
  },
  {
   "cell_type": "code",
   "execution_count": null,
   "id": "61071dbc",
   "metadata": {
    "scrolled": false
   },
   "outputs": [],
   "source": [
    "bins = [0, 25, 50, 75, 100]  # Adjust the bin edges as needed\n",
    "labels = ['Adolescent', 'Adult', 'Middle Age', 'Senior']\n",
    "\n",
    "client_profile_df['name_age'] = pd.cut(client_profile_df['age'], bins=bins, labels=labels, right=False)\n",
    "\n",
    "group_age = client_profile_df['name_age'].value_counts()\n",
    "\n",
    "group_age.values"
   ]
  },
  {
   "cell_type": "code",
   "execution_count": null,
   "id": "6e2507d1",
   "metadata": {},
   "outputs": [],
   "source": [
    "client_profile_df['name_age'].isnull().sum()"
   ]
  },
  {
   "cell_type": "code",
   "execution_count": null,
   "id": "52070d92",
   "metadata": {},
   "outputs": [],
   "source": [
    "client_profile_df"
   ]
  },
  {
   "cell_type": "code",
   "execution_count": null,
   "id": "7cf38dbd",
   "metadata": {
    "scrolled": false
   },
   "outputs": [],
   "source": [
    "sns.barplot(x=group_age.index, y=group_age.values, palette=\"Set3\");"
   ]
  },
  {
   "cell_type": "markdown",
   "id": "b892dd95",
   "metadata": {},
   "source": [
    "### Conclusion:\n",
    "\n",
    "The majority of clients are between the ages of 30 and 50 with an average of 46 years\n",
    "\n",
    "Although many clients have an unknown gender, we can assume that they are divided fairly equal between male and female\n",
    "\n",
    "The average years in Vanguard is 12 years\n",
    "\n",
    "The average number of accounts per clients is 2 "
   ]
  },
  {
   "cell_type": "code",
   "execution_count": null,
   "id": "18125d49",
   "metadata": {},
   "outputs": [],
   "source": [
    "bins = [0, 3, 6, 9]  # Adjust the bin edges as needed\n",
    "labels = ['Low', 'Average', 'Frequent']\n",
    "\n",
    "client_profile_df['logins'] = pd.cut(client_profile_df['logons_6_mnth'], bins=bins, labels=labels, right=False)\n",
    "\n",
    "primary = client_profile_df['logins'].value_counts()\n",
    "\n",
    "primary.values"
   ]
  },
  {
   "cell_type": "code",
   "execution_count": null,
   "id": "1920eabc",
   "metadata": {},
   "outputs": [],
   "source": [
    "sns.barplot(x=primary.index, y=primary.values, palette=\"Set3\");"
   ]
  },
  {
   "cell_type": "code",
   "execution_count": null,
   "id": "564975fb",
   "metadata": {},
   "outputs": [],
   "source": [
    "filter= client_profile_df[client_profile_df['logons_6_mnth'] > 3]\n",
    "\n",
    "primary_clients = filter[['age','gender','tenure_year','logons_6_mnth']]\n",
    "\n",
    "primary_clients.describe()"
   ]
  },
  {
   "cell_type": "code",
   "execution_count": null,
   "id": "bcae0556",
   "metadata": {},
   "outputs": [],
   "source": [
    "primary_clients.shape"
   ]
  },
  {
   "cell_type": "code",
   "execution_count": null,
   "id": "daf2160e",
   "metadata": {},
   "outputs": [],
   "source": [
    "#The primary clients are older (middle aged) and long standing (average of 12 years)"
   ]
  },
  {
   "cell_type": "code",
   "execution_count": null,
   "id": "1417bed6",
   "metadata": {},
   "outputs": [],
   "source": []
  },
  {
   "cell_type": "markdown",
   "id": "4b53ce9d",
   "metadata": {},
   "source": [
    "### KPIs\n",
    "\n",
    "> Completion Rate: The proportion of users who reach the final ‘confirm’ step.\n",
    "\n",
    "> Time Spent on Each Step: The average duration users spend on each step.\n",
    "\n",
    "> Error Rates: If there’s a step where users go back to a previous step, it may indicate confusion or an error. You should consider moving from a later step to an earlier one as an error.\n",
    "\n",
    "    - Count of steps per visit_id\n",
    "\n",
    "> Number of times a customer tried to complete the steps (number of visit_id per customer)\n",
    "\n",
    "> At which step did the customers 'give up' (Abandonment Rate)\n",
    "\n",
    "> The percentage of users who abandon the process at each step (Drop-off Rate)"
   ]
  },
  {
   "cell_type": "code",
   "execution_count": null,
   "id": "c3386b12",
   "metadata": {},
   "outputs": [],
   "source": [
    "import getpass  # To get the password without showing the input\n",
    "password = getpass.getpass()"
   ]
  },
  {
   "cell_type": "code",
   "execution_count": null,
   "id": "6a995684",
   "metadata": {},
   "outputs": [],
   "source": [
    "# Connect to MySQL database\n",
    "conn = mysql.connector.connect(host='127.0.0.1', user='root', passwd=password)\n",
    "cursor = conn.cursor()\n",
    "\n",
    "#Select the database\n",
    "cursor.execute(\"USE vanguard\")"
   ]
  },
  {
   "cell_type": "code",
   "execution_count": null,
   "id": "2e1dfa00",
   "metadata": {},
   "outputs": [],
   "source": [
    "cursor.execute(\"\"\"\n",
    "                    SELECT clients.client_id,\n",
    "                        clients.clnt_age, \n",
    "                        clients.gendr, \n",
    "                        COUNT(distinct(interactions.process_step)) AS count_of_steps,\n",
    "                        group_id.variation\n",
    "                    FROM clients\n",
    "                    JOIN interactions\n",
    "                    ON clients.client_id = interactions.client_id\n",
    "                    INNER JOIN group_id\n",
    "                    ON group_id.client_id = clients.client_id\n",
    "                    GROUP BY clients.client_id, clients.clnt_age, clients.gendr,group_id.variation;\n",
    "\n",
    "                    \"\"\")\n",
    "results = cursor.fetchall()\n",
    "\n",
    "how_far = pd.DataFrame(results)"
   ]
  },
  {
   "cell_type": "code",
   "execution_count": null,
   "id": "daaa2732",
   "metadata": {},
   "outputs": [],
   "source": [
    "how_far"
   ]
  },
  {
   "cell_type": "code",
   "execution_count": null,
   "id": "1c8cc5bf",
   "metadata": {},
   "outputs": [],
   "source": [
    "#rename columns to be descriptive\n",
    "\n",
    "how_far.rename(columns = {0:'client_id',1:'age',2:'gender',3:'steps_reached',4:'group_status'},inplace=True)\n",
    "how_far"
   ]
  },
  {
   "cell_type": "code",
   "execution_count": null,
   "id": "a47e6e52",
   "metadata": {},
   "outputs": [],
   "source": [
    "# Frequency table \n",
    "frequency_table = how_far['steps_reached'].value_counts()\n",
    "\n",
    "# Calculating the proportion of people that reached and stopped at each step\n",
    "proportion_table = how_far['steps_reached'].value_counts(normalize=True)\n",
    "\n",
    "proportion_table, frequency_table"
   ]
  },
  {
   "cell_type": "code",
   "execution_count": null,
   "id": "7d65f279",
   "metadata": {},
   "outputs": [],
   "source": [
    "# Creating a crosstab table for the step_reached column, counting occurrences for each unique value\n",
    "my_table = pd.crosstab(index = how_far[\"steps_reached\"],  # Make a crosstab\n",
    "                              columns=\"count\")      # Name the count column\n",
    "my_table"
   ]
  },
  {
   "cell_type": "code",
   "execution_count": null,
   "id": "177ce7c2",
   "metadata": {},
   "outputs": [],
   "source": [
    "# Generating a crosstab for steps reached and group_status\n",
    "crosstab_status = pd.crosstab(how_far['steps_reached'], how_far['group_status'])\n",
    "\n",
    "crosstab_status\n",
    "\n",
    "\n",
    "proportion_status = how_far[['steps_reached','group_status']].value_counts(normalize=True)\n",
    "proportion_status *= 100 \n",
    "proportion_status"
   ]
  },
  {
   "cell_type": "code",
   "execution_count": null,
   "id": "15f54bd2",
   "metadata": {},
   "outputs": [],
   "source": [
    "from scipy.stats import chi2_contingency\n",
    "\n",
    "# Chi-square test for steps reached and group_status\n",
    "chi2_statistic, chi2_p_value, _, _ = chi2_contingency(crosstab_status)\n",
    "\n",
    "chi2_statistic, chi2_p_value\n",
    "\n",
    "#chi2_statistic = statistically significant\n",
    "#chi2_p_value = indicates a statistically significant association between the groups and their progress in the process."
   ]
  },
  {
   "cell_type": "code",
   "execution_count": null,
   "id": "e9473d83",
   "metadata": {},
   "outputs": [],
   "source": [
    "#stacked bar with test groups\n",
    "crosstab_status.plot(kind=\"bar\", stacked=True)\n",
    "\n",
    "#bar with test groups\n",
    "crosstab_status.plot(kind=\"bar\", stacked=False)"
   ]
  },
  {
   "cell_type": "code",
   "execution_count": null,
   "id": "a74a330b",
   "metadata": {},
   "outputs": [],
   "source": [
    "#bar with test groups proportions\n",
    "proportion_status.plot(kind=\"bar\")\n"
   ]
  },
  {
   "cell_type": "code",
   "execution_count": null,
   "id": "4e0be3f9",
<<<<<<< HEAD
   "metadata": {
    "scrolled": true
   },
   "outputs": [
    {
     "name": "stderr",
     "output_type": "stream",
     "text": [
      "C:\\Users\\NessaJay\\AppData\\Local\\Temp\\ipykernel_28648\\3628697404.py:1: FutureWarning: \n",
      "\n",
      "Passing `palette` without assigning `hue` is deprecated and will be removed in v0.14.0. Assign the `x` variable to `hue` and set `legend=False` for the same effect.\n",
      "\n",
      "  sns.barplot(x=frequency_table.index, y=frequency_table.values, palette=\"Set3\");\n"
     ]
    },
    {
     "data": {
      "image/png": "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",
      "text/plain": [
       "<Figure size 640x480 with 1 Axes>"
      ]
     },
     "metadata": {},
     "output_type": "display_data"
    }
   ],
=======
   "metadata": {},
   "outputs": [],
>>>>>>> 65656215d053859d69ed28da4c80f60cf0456bfd
   "source": [
    "# graph regardless of test group\n",
    "sns.barplot(x=frequency_table.index, y=frequency_table.values, palette=\"Set3\");"
   ]
  },
  {
   "cell_type": "markdown",
   "id": "79458b79",
   "metadata": {},
   "source": [
    "##### Abandonment rate\n",
    "\n",
    "Abandonment rate refers to the percentage of tasks users start but don't complete—such as leaving a survey midway, or adding an item to an online shopping cart but not purchasing. It’s a popular metric in the ecommerce industry, specifically for calculating cart abandonment rate.\n",
    "\n",
    "How to calculate abandonment rate\n",
    "Abandonment rate = (Number of intended tasks completed) / (Number of intended tasks initiated) x 100\n",
    "\n",
    "How to calculate cart abandonment rate for ecommerce stores\n",
    "\n",
    "Cart abandonment rate = (Number of carts abandoned / Number of orders initiated) x 100"
   ]
  },
  {
   "cell_type": "code",
   "execution_count": null,
   "id": "a5892125",
   "metadata": {},
   "outputs": [],
   "source": []
  }
 ],
 "metadata": {
  "kernelspec": {
   "display_name": "Python 3 (ipykernel)",
   "language": "python",
   "name": "python3"
  },
  "language_info": {
   "codemirror_mode": {
    "name": "ipython",
    "version": 3
   },
   "file_extension": ".py",
   "mimetype": "text/x-python",
   "name": "python",
   "nbconvert_exporter": "python",
   "pygments_lexer": "ipython3",
   "version": "3.11.7"
  }
 },
 "nbformat": 4,
 "nbformat_minor": 5
}
