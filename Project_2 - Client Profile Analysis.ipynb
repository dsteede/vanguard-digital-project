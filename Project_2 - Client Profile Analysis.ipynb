{
 "cells": [
  {
   "cell_type": "code",
   "execution_count": 1,
   "id": "bf86eb0a",
   "metadata": {},
   "outputs": [],
   "source": [
    "import pandas as pd\n",
    "import matplotlib.pyplot as plt\n",
    "import seaborn as sns\n",
    "import numpy as np\n",
    "from sqlalchemy import create_engine\n",
    "import mysql.connector\n",
    "import pickle\n",
    "\n",
    "%matplotlib inline"
   ]
  },
  {
   "cell_type": "code",
   "execution_count": 2,
   "id": "41f80002",
   "metadata": {},
   "outputs": [
    {
     "ename": "FileNotFoundError",
     "evalue": "[Errno 2] No such file or directory: 'df_final_demo.txt'",
     "output_type": "error",
     "traceback": [
      "\u001b[1;31m---------------------------------------------------------------------------\u001b[0m",
      "\u001b[1;31mFileNotFoundError\u001b[0m                         Traceback (most recent call last)",
      "Cell \u001b[1;32mIn[2], line 2\u001b[0m\n\u001b[0;32m      1\u001b[0m \u001b[38;5;66;03m#Demographics like age, gender, and account details of our clients\u001b[39;00m\n\u001b[1;32m----> 2\u001b[0m client_profile_df \u001b[38;5;241m=\u001b[39m pd\u001b[38;5;241m.\u001b[39mread_csv(\u001b[38;5;124m'\u001b[39m\u001b[38;5;124mdf_final_demo.txt\u001b[39m\u001b[38;5;124m'\u001b[39m)\n\u001b[0;32m      4\u001b[0m \u001b[38;5;66;03m#A detailed trace of client interactions online\u001b[39;00m\n\u001b[0;32m      5\u001b[0m digital_footprints_1 \u001b[38;5;241m=\u001b[39m pd\u001b[38;5;241m.\u001b[39mread_csv(\u001b[38;5;124m'\u001b[39m\u001b[38;5;124mdf_final_web_data_pt_1.txt\u001b[39m\u001b[38;5;124m'\u001b[39m)\n",
      "File \u001b[1;32m~\\anaconda3\\Lib\\site-packages\\pandas\\io\\parsers\\readers.py:948\u001b[0m, in \u001b[0;36mread_csv\u001b[1;34m(filepath_or_buffer, sep, delimiter, header, names, index_col, usecols, dtype, engine, converters, true_values, false_values, skipinitialspace, skiprows, skipfooter, nrows, na_values, keep_default_na, na_filter, verbose, skip_blank_lines, parse_dates, infer_datetime_format, keep_date_col, date_parser, date_format, dayfirst, cache_dates, iterator, chunksize, compression, thousands, decimal, lineterminator, quotechar, quoting, doublequote, escapechar, comment, encoding, encoding_errors, dialect, on_bad_lines, delim_whitespace, low_memory, memory_map, float_precision, storage_options, dtype_backend)\u001b[0m\n\u001b[0;32m    935\u001b[0m kwds_defaults \u001b[38;5;241m=\u001b[39m _refine_defaults_read(\n\u001b[0;32m    936\u001b[0m     dialect,\n\u001b[0;32m    937\u001b[0m     delimiter,\n\u001b[1;32m   (...)\u001b[0m\n\u001b[0;32m    944\u001b[0m     dtype_backend\u001b[38;5;241m=\u001b[39mdtype_backend,\n\u001b[0;32m    945\u001b[0m )\n\u001b[0;32m    946\u001b[0m kwds\u001b[38;5;241m.\u001b[39mupdate(kwds_defaults)\n\u001b[1;32m--> 948\u001b[0m \u001b[38;5;28;01mreturn\u001b[39;00m _read(filepath_or_buffer, kwds)\n",
      "File \u001b[1;32m~\\anaconda3\\Lib\\site-packages\\pandas\\io\\parsers\\readers.py:611\u001b[0m, in \u001b[0;36m_read\u001b[1;34m(filepath_or_buffer, kwds)\u001b[0m\n\u001b[0;32m    608\u001b[0m _validate_names(kwds\u001b[38;5;241m.\u001b[39mget(\u001b[38;5;124m\"\u001b[39m\u001b[38;5;124mnames\u001b[39m\u001b[38;5;124m\"\u001b[39m, \u001b[38;5;28;01mNone\u001b[39;00m))\n\u001b[0;32m    610\u001b[0m \u001b[38;5;66;03m# Create the parser.\u001b[39;00m\n\u001b[1;32m--> 611\u001b[0m parser \u001b[38;5;241m=\u001b[39m TextFileReader(filepath_or_buffer, \u001b[38;5;241m*\u001b[39m\u001b[38;5;241m*\u001b[39mkwds)\n\u001b[0;32m    613\u001b[0m \u001b[38;5;28;01mif\u001b[39;00m chunksize \u001b[38;5;129;01mor\u001b[39;00m iterator:\n\u001b[0;32m    614\u001b[0m     \u001b[38;5;28;01mreturn\u001b[39;00m parser\n",
      "File \u001b[1;32m~\\anaconda3\\Lib\\site-packages\\pandas\\io\\parsers\\readers.py:1448\u001b[0m, in \u001b[0;36mTextFileReader.__init__\u001b[1;34m(self, f, engine, **kwds)\u001b[0m\n\u001b[0;32m   1445\u001b[0m     \u001b[38;5;28mself\u001b[39m\u001b[38;5;241m.\u001b[39moptions[\u001b[38;5;124m\"\u001b[39m\u001b[38;5;124mhas_index_names\u001b[39m\u001b[38;5;124m\"\u001b[39m] \u001b[38;5;241m=\u001b[39m kwds[\u001b[38;5;124m\"\u001b[39m\u001b[38;5;124mhas_index_names\u001b[39m\u001b[38;5;124m\"\u001b[39m]\n\u001b[0;32m   1447\u001b[0m \u001b[38;5;28mself\u001b[39m\u001b[38;5;241m.\u001b[39mhandles: IOHandles \u001b[38;5;241m|\u001b[39m \u001b[38;5;28;01mNone\u001b[39;00m \u001b[38;5;241m=\u001b[39m \u001b[38;5;28;01mNone\u001b[39;00m\n\u001b[1;32m-> 1448\u001b[0m \u001b[38;5;28mself\u001b[39m\u001b[38;5;241m.\u001b[39m_engine \u001b[38;5;241m=\u001b[39m \u001b[38;5;28mself\u001b[39m\u001b[38;5;241m.\u001b[39m_make_engine(f, \u001b[38;5;28mself\u001b[39m\u001b[38;5;241m.\u001b[39mengine)\n",
      "File \u001b[1;32m~\\anaconda3\\Lib\\site-packages\\pandas\\io\\parsers\\readers.py:1705\u001b[0m, in \u001b[0;36mTextFileReader._make_engine\u001b[1;34m(self, f, engine)\u001b[0m\n\u001b[0;32m   1703\u001b[0m     \u001b[38;5;28;01mif\u001b[39;00m \u001b[38;5;124m\"\u001b[39m\u001b[38;5;124mb\u001b[39m\u001b[38;5;124m\"\u001b[39m \u001b[38;5;129;01mnot\u001b[39;00m \u001b[38;5;129;01min\u001b[39;00m mode:\n\u001b[0;32m   1704\u001b[0m         mode \u001b[38;5;241m+\u001b[39m\u001b[38;5;241m=\u001b[39m \u001b[38;5;124m\"\u001b[39m\u001b[38;5;124mb\u001b[39m\u001b[38;5;124m\"\u001b[39m\n\u001b[1;32m-> 1705\u001b[0m \u001b[38;5;28mself\u001b[39m\u001b[38;5;241m.\u001b[39mhandles \u001b[38;5;241m=\u001b[39m get_handle(\n\u001b[0;32m   1706\u001b[0m     f,\n\u001b[0;32m   1707\u001b[0m     mode,\n\u001b[0;32m   1708\u001b[0m     encoding\u001b[38;5;241m=\u001b[39m\u001b[38;5;28mself\u001b[39m\u001b[38;5;241m.\u001b[39moptions\u001b[38;5;241m.\u001b[39mget(\u001b[38;5;124m\"\u001b[39m\u001b[38;5;124mencoding\u001b[39m\u001b[38;5;124m\"\u001b[39m, \u001b[38;5;28;01mNone\u001b[39;00m),\n\u001b[0;32m   1709\u001b[0m     compression\u001b[38;5;241m=\u001b[39m\u001b[38;5;28mself\u001b[39m\u001b[38;5;241m.\u001b[39moptions\u001b[38;5;241m.\u001b[39mget(\u001b[38;5;124m\"\u001b[39m\u001b[38;5;124mcompression\u001b[39m\u001b[38;5;124m\"\u001b[39m, \u001b[38;5;28;01mNone\u001b[39;00m),\n\u001b[0;32m   1710\u001b[0m     memory_map\u001b[38;5;241m=\u001b[39m\u001b[38;5;28mself\u001b[39m\u001b[38;5;241m.\u001b[39moptions\u001b[38;5;241m.\u001b[39mget(\u001b[38;5;124m\"\u001b[39m\u001b[38;5;124mmemory_map\u001b[39m\u001b[38;5;124m\"\u001b[39m, \u001b[38;5;28;01mFalse\u001b[39;00m),\n\u001b[0;32m   1711\u001b[0m     is_text\u001b[38;5;241m=\u001b[39mis_text,\n\u001b[0;32m   1712\u001b[0m     errors\u001b[38;5;241m=\u001b[39m\u001b[38;5;28mself\u001b[39m\u001b[38;5;241m.\u001b[39moptions\u001b[38;5;241m.\u001b[39mget(\u001b[38;5;124m\"\u001b[39m\u001b[38;5;124mencoding_errors\u001b[39m\u001b[38;5;124m\"\u001b[39m, \u001b[38;5;124m\"\u001b[39m\u001b[38;5;124mstrict\u001b[39m\u001b[38;5;124m\"\u001b[39m),\n\u001b[0;32m   1713\u001b[0m     storage_options\u001b[38;5;241m=\u001b[39m\u001b[38;5;28mself\u001b[39m\u001b[38;5;241m.\u001b[39moptions\u001b[38;5;241m.\u001b[39mget(\u001b[38;5;124m\"\u001b[39m\u001b[38;5;124mstorage_options\u001b[39m\u001b[38;5;124m\"\u001b[39m, \u001b[38;5;28;01mNone\u001b[39;00m),\n\u001b[0;32m   1714\u001b[0m )\n\u001b[0;32m   1715\u001b[0m \u001b[38;5;28;01massert\u001b[39;00m \u001b[38;5;28mself\u001b[39m\u001b[38;5;241m.\u001b[39mhandles \u001b[38;5;129;01mis\u001b[39;00m \u001b[38;5;129;01mnot\u001b[39;00m \u001b[38;5;28;01mNone\u001b[39;00m\n\u001b[0;32m   1716\u001b[0m f \u001b[38;5;241m=\u001b[39m \u001b[38;5;28mself\u001b[39m\u001b[38;5;241m.\u001b[39mhandles\u001b[38;5;241m.\u001b[39mhandle\n",
      "File \u001b[1;32m~\\anaconda3\\Lib\\site-packages\\pandas\\io\\common.py:863\u001b[0m, in \u001b[0;36mget_handle\u001b[1;34m(path_or_buf, mode, encoding, compression, memory_map, is_text, errors, storage_options)\u001b[0m\n\u001b[0;32m    858\u001b[0m \u001b[38;5;28;01melif\u001b[39;00m \u001b[38;5;28misinstance\u001b[39m(handle, \u001b[38;5;28mstr\u001b[39m):\n\u001b[0;32m    859\u001b[0m     \u001b[38;5;66;03m# Check whether the filename is to be opened in binary mode.\u001b[39;00m\n\u001b[0;32m    860\u001b[0m     \u001b[38;5;66;03m# Binary mode does not support 'encoding' and 'newline'.\u001b[39;00m\n\u001b[0;32m    861\u001b[0m     \u001b[38;5;28;01mif\u001b[39;00m ioargs\u001b[38;5;241m.\u001b[39mencoding \u001b[38;5;129;01mand\u001b[39;00m \u001b[38;5;124m\"\u001b[39m\u001b[38;5;124mb\u001b[39m\u001b[38;5;124m\"\u001b[39m \u001b[38;5;129;01mnot\u001b[39;00m \u001b[38;5;129;01min\u001b[39;00m ioargs\u001b[38;5;241m.\u001b[39mmode:\n\u001b[0;32m    862\u001b[0m         \u001b[38;5;66;03m# Encoding\u001b[39;00m\n\u001b[1;32m--> 863\u001b[0m         handle \u001b[38;5;241m=\u001b[39m \u001b[38;5;28mopen\u001b[39m(\n\u001b[0;32m    864\u001b[0m             handle,\n\u001b[0;32m    865\u001b[0m             ioargs\u001b[38;5;241m.\u001b[39mmode,\n\u001b[0;32m    866\u001b[0m             encoding\u001b[38;5;241m=\u001b[39mioargs\u001b[38;5;241m.\u001b[39mencoding,\n\u001b[0;32m    867\u001b[0m             errors\u001b[38;5;241m=\u001b[39merrors,\n\u001b[0;32m    868\u001b[0m             newline\u001b[38;5;241m=\u001b[39m\u001b[38;5;124m\"\u001b[39m\u001b[38;5;124m\"\u001b[39m,\n\u001b[0;32m    869\u001b[0m         )\n\u001b[0;32m    870\u001b[0m     \u001b[38;5;28;01melse\u001b[39;00m:\n\u001b[0;32m    871\u001b[0m         \u001b[38;5;66;03m# Binary mode\u001b[39;00m\n\u001b[0;32m    872\u001b[0m         handle \u001b[38;5;241m=\u001b[39m \u001b[38;5;28mopen\u001b[39m(handle, ioargs\u001b[38;5;241m.\u001b[39mmode)\n",
      "\u001b[1;31mFileNotFoundError\u001b[0m: [Errno 2] No such file or directory: 'df_final_demo.txt'"
     ]
    }
   ],
   "source": [
    "#Demographics like age, gender, and account details of our clients\n",
    "client_profile_df = pd.read_csv('df_final_demo.txt')\n",
    "\n",
    "#A detailed trace of client interactions online\n",
    "digital_footprints_1 = pd.read_csv('df_final_web_data_pt_1.txt')\n",
    "digital_footprints_2 = pd.read_csv('df_final_web_data_pt_2.txt')\n",
    "\n",
    "#A list revealing which clients were part of the grand experiment\n",
    "experiment_roster = pd.read_csv('df_final_experiment_clients.txt')"
   ]
  },
  {
   "cell_type": "code",
   "execution_count": null,
   "id": "5cfbff74",
   "metadata": {
    "scrolled": false
   },
   "outputs": [],
   "source": [
    "client_profile_df"
   ]
  },
  {
   "cell_type": "code",
   "execution_count": null,
   "id": "0e9f728d",
   "metadata": {},
   "outputs": [],
   "source": [
    "client_profile_df.rename(columns = {'clnt_age':'age','gendr':'gender','bal':'balance','clnt_tenure_yr':'tenure_year','clnt_tenure_mnth':'tenure_month'},inplace=True)"
   ]
  },
  {
   "cell_type": "code",
   "execution_count": null,
   "id": "906af54d",
   "metadata": {},
   "outputs": [],
   "source": [
    "client_profile_df.drop('tenure_month', axis=1, inplace=True)"
   ]
  },
  {
   "cell_type": "code",
   "execution_count": null,
   "id": "0710b5fb",
   "metadata": {
    "scrolled": true
   },
   "outputs": [],
   "source": [
    "client_profile_df['logons_6_mnth'].value_counts()"
   ]
  },
  {
   "cell_type": "code",
   "execution_count": null,
   "id": "cf7375ee",
   "metadata": {},
   "outputs": [],
   "source": [
    "client_profile_df.describe().round()"
   ]
  },
  {
   "cell_type": "code",
   "execution_count": null,
   "id": "08b6b782",
   "metadata": {
    "scrolled": true
   },
   "outputs": [],
   "source": [
    "client_profile_df['gender'].value_counts()"
   ]
  },
  {
   "cell_type": "code",
   "execution_count": null,
   "id": "d713d9aa",
   "metadata": {},
   "outputs": [],
   "source": [
    "client_profile_df['gender'] = client_profile_df['gender'].replace('X', 'U')"
   ]
  },
  {
   "cell_type": "code",
   "execution_count": null,
   "id": "1273a8a6",
   "metadata": {},
   "outputs": [],
   "source": [
    "client_profile_df['gender'].value_counts()"
   ]
  },
  {
   "cell_type": "code",
   "execution_count": null,
   "id": "61071dbc",
   "metadata": {
    "scrolled": false
   },
   "outputs": [],
   "source": [
    "bins = [0, 25, 50, 75, 100]  # Adjust the bin edges as needed\n",
    "labels = ['Adolescent', 'Adult', 'Middle Age', 'Senior']\n",
    "\n",
    "client_profile_df['name_age'] = pd.cut(client_profile_df['age'], bins=bins, labels=labels, right=False)\n",
    "\n",
    "group_age = client_profile_df['name_age'].value_counts()\n",
    "\n",
    "group_age.values"
   ]
  },
  {
   "cell_type": "code",
   "execution_count": null,
   "id": "6e2507d1",
   "metadata": {},
   "outputs": [],
   "source": [
    "client_profile_df['name_age'].isnull().sum()"
   ]
  },
  {
   "cell_type": "code",
   "execution_count": null,
   "id": "52070d92",
   "metadata": {},
   "outputs": [],
   "source": [
    "client_profile_df"
   ]
  },
  {
   "cell_type": "code",
   "execution_count": null,
   "id": "7cf38dbd",
   "metadata": {
    "scrolled": false
   },
   "outputs": [],
   "source": [
    "sns.barplot(x=group_age.index, y=group_age.values, palette=\"Set3\");"
   ]
  },
  {
   "cell_type": "markdown",
   "id": "b892dd95",
   "metadata": {},
   "source": [
    "### Conclusion:\n",
    "\n",
    "The majority of clients are between the ages of 30 and 50 with an average of 46 years\n",
    "\n",
    "Although many clients have an unknown gender, we can assume that they are divided fairly equal between male and female\n",
    "\n",
    "The average years in Vanguard is 12 years\n",
    "\n",
    "The average number of accounts per clients is 2 "
   ]
  },
  {
   "cell_type": "code",
   "execution_count": null,
   "id": "18125d49",
   "metadata": {},
   "outputs": [],
   "source": [
    "bins = [0, 3, 6, 9]  # Adjust the bin edges as needed\n",
    "labels = ['Low', 'Average', 'Frequent']\n",
    "\n",
    "client_profile_df['logins'] = pd.cut(client_profile_df['logons_6_mnth'], bins=bins, labels=labels, right=False)\n",
    "\n",
    "primary = client_profile_df['logins'].value_counts()\n",
    "\n",
    "primary.values"
   ]
  },
  {
   "cell_type": "code",
   "execution_count": null,
   "id": "1920eabc",
   "metadata": {},
   "outputs": [],
   "source": [
    "sns.barplot(x=primary.index, y=primary.values, palette=\"Set3\");"
   ]
  },
  {
   "cell_type": "code",
   "execution_count": null,
   "id": "564975fb",
   "metadata": {},
   "outputs": [],
   "source": [
    "filter= client_profile_df[client_profile_df['logons_6_mnth'] > 3]\n",
    "\n",
    "primary_clients = filter[['age','gender','tenure_year','logons_6_mnth']]\n",
    "\n",
    "primary_clients.describe()"
   ]
  },
  {
   "cell_type": "code",
   "execution_count": null,
   "id": "bcae0556",
   "metadata": {},
   "outputs": [],
   "source": [
    "primary_clients.shape"
   ]
  },
  {
   "cell_type": "code",
   "execution_count": null,
   "id": "daf2160e",
   "metadata": {},
   "outputs": [],
   "source": [
    "#The primary clients are older (middle aged) and long standing (average of 12 years)"
   ]
  },
  {
   "cell_type": "code",
   "execution_count": null,
   "id": "1417bed6",
   "metadata": {},
   "outputs": [],
   "source": []
  },
  {
   "cell_type": "markdown",
   "id": "4b53ce9d",
   "metadata": {},
   "source": [
    "### KPIs\n",
    "\n",
    "> Completion Rate: The proportion of users who reach the final ‘confirm’ step.\n",
    "\n",
    "> Time Spent on Each Step: The average duration users spend on each step.\n",
    "\n",
    "> Error Rates: If there’s a step where users go back to a previous step, it may indicate confusion or an error. You should consider moving from a later step to an earlier one as an error.\n",
    "\n",
    "    - Count of steps per visit_id\n",
    "\n",
    "> Number of times a customer tried to complete the steps (number of visit_id per customer)\n",
    "\n",
    "> At which step did the customers 'give up' (Abandonment Rate)\n",
    "\n",
    "> The percentage of users who abandon the process at each step (Drop-off Rate)"
   ]
  },
  {
   "cell_type": "code",
   "execution_count": null,
   "id": "c3386b12",
   "metadata": {},
   "outputs": [],
   "source": [
    "import getpass  # To get the password without showing the input\n",
    "password = getpass.getpass()"
   ]
  },
  {
   "cell_type": "code",
   "execution_count": null,
   "id": "6a995684",
   "metadata": {},
   "outputs": [],
   "source": [
    "# Connect to MySQL database\n",
    "conn = mysql.connector.connect(host='127.0.0.1', user='root', passwd=password)\n",
    "cursor = conn.cursor()\n",
    "\n",
    "#Select the database\n",
    "cursor.execute(\"USE vanguard\")"
   ]
  },
  {
   "cell_type": "code",
   "execution_count": null,
   "id": "2e1dfa00",
   "metadata": {},
   "outputs": [],
   "source": [
    "cursor.execute(\"\"\"\n",
    "                    SELECT clients.client_id,\n",
    "                        clients.clnt_age, \n",
    "                        clients.gendr, \n",
    "                        COUNT(distinct(interactions.process_step)) AS count_of_steps,\n",
    "                        group_id.variation\n",
    "                    FROM clients\n",
    "                    JOIN interactions\n",
    "                    ON clients.client_id = interactions.client_id\n",
    "                    INNER JOIN group_id\n",
    "                    ON group_id.client_id = clients.client_id\n",
    "                    GROUP BY clients.client_id, clients.clnt_age, clients.gendr,group_id.variation;\n",
    "\n",
    "                    \"\"\")\n",
    "results = cursor.fetchall()\n",
    "\n",
    "how_far = pd.DataFrame(results)"
   ]
  },
  {
   "cell_type": "code",
   "execution_count": null,
   "id": "daaa2732",
   "metadata": {},
   "outputs": [],
   "source": [
    "how_far"
   ]
  },
  {
   "cell_type": "code",
   "execution_count": null,
   "id": "1c8cc5bf",
   "metadata": {},
   "outputs": [],
   "source": [
    "#rename columns to be descriptive\n",
    "\n",
    "how_far.rename(columns = {0:'client_id',1:'age',2:'gender',3:'steps_reached',4:'group_status'},inplace=True)\n",
    "how_far"
   ]
  },
  {
   "cell_type": "code",
   "execution_count": null,
   "id": "a47e6e52",
   "metadata": {},
   "outputs": [],
   "source": [
    "# Frequency table \n",
    "frequency_table = how_far['steps_reached'].value_counts()\n",
    "\n",
    "# Calculating the proportion of people that reached and stopped at each step\n",
    "proportion_table = how_far['steps_reached'].value_counts(normalize=True)\n",
    "\n",
    "proportion_table, frequency_table"
   ]
  },
  {
   "cell_type": "code",
   "execution_count": null,
   "id": "7d65f279",
   "metadata": {},
   "outputs": [],
   "source": [
    "# Creating a crosstab table for the step_reached column, counting occurrences for each unique value\n",
    "my_table = pd.crosstab(index = how_far[\"steps_reached\"],  # Make a crosstab\n",
    "                              columns=\"count\")      # Name the count column\n",
    "my_table"
   ]
  },
  {
   "cell_type": "code",
   "execution_count": null,
   "id": "177ce7c2",
   "metadata": {},
   "outputs": [],
   "source": [
    "# Generating a crosstab for steps reached and group_status\n",
    "crosstab_status = pd.crosstab(how_far['steps_reached'], how_far['group_status'])\n",
    "\n",
    "crosstab_status\n",
    "\n",
    "\n",
    "proportion_status = how_far[['steps_reached','group_status']].value_counts(normalize=True)\n",
    "proportion_status *= 100 \n",
    "proportion_status"
   ]
  },
  {
   "cell_type": "code",
   "execution_count": null,
   "id": "15f54bd2",
   "metadata": {},
   "outputs": [],
   "source": [
    "from scipy.stats import chi2_contingency\n",
    "\n",
    "# Chi-square test for steps reached and group_status\n",
    "chi2_statistic, chi2_p_value, _, _ = chi2_contingency(crosstab_status)\n",
    "\n",
    "chi2_statistic, chi2_p_value\n",
    "\n",
    "#chi2_statistic = statistically significant\n",
    "#chi2_p_value = indicates a statistically significant association between the groups and their progress in the process."
   ]
  },
  {
   "cell_type": "code",
   "execution_count": null,
   "id": "e9473d83",
   "metadata": {},
   "outputs": [],
   "source": [
    "#stacked bar with test groups\n",
    "crosstab_status.plot(kind=\"bar\", stacked=True)\n",
    "\n",
    "#bar with test groups\n",
    "crosstab_status.plot(kind=\"bar\", stacked=False)"
   ]
  },
  {
   "cell_type": "code",
   "execution_count": null,
   "id": "a74a330b",
   "metadata": {},
   "outputs": [],
   "source": [
    "#bar with test groups proportions\n",
    "proportion_status.plot(kind=\"bar\")\n"
   ]
  },
  {
   "cell_type": "code",
   "execution_count": null,
   "id": "4e0be3f9",
   "metadata": {},
   "outputs": [],
   "source": [
    "# graph regardless of test group\n",
    "sns.barplot(x=frequency_table.index, y=frequency_table.values, palette=\"Set3\");"
   ]
  },
  {
   "cell_type": "markdown",
   "id": "79458b79",
   "metadata": {},
   "source": [
    "##### Abandonment rate\n",
    "\n",
    "Abandonment rate refers to the percentage of tasks users start but don't complete—such as leaving a survey midway, or adding an item to an online shopping cart but not purchasing. It’s a popular metric in the ecommerce industry, specifically for calculating cart abandonment rate.\n",
    "\n",
    "How to calculate abandonment rate\n",
    "Abandonment rate = (Number of intended tasks completed) / (Number of intended tasks initiated) x 100\n",
    "\n",
    "How to calculate cart abandonment rate for ecommerce stores\n",
    "\n",
    "Cart abandonment rate = (Number of carts abandoned / Number of orders initiated) x 100"
   ]
  },
  {
   "cell_type": "code",
   "execution_count": null,
   "id": "a5892125",
   "metadata": {},
   "outputs": [],
   "source": []
  }
 ],
 "metadata": {
  "kernelspec": {
   "display_name": "Python 3 (ipykernel)",
   "language": "python",
   "name": "python3"
  },
  "language_info": {
   "codemirror_mode": {
    "name": "ipython",
    "version": 3
   },
   "file_extension": ".py",
   "mimetype": "text/x-python",
   "name": "python",
   "nbconvert_exporter": "python",
   "pygments_lexer": "ipython3",
   "version": "3.11.7"
  }
 },
 "nbformat": 4,
 "nbformat_minor": 5
}
