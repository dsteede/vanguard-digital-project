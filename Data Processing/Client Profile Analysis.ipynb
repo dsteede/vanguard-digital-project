{
 "cells": [
  {
   "cell_type": "markdown",
   "id": "33582744",
   "metadata": {},
   "source": [
    "This is the code we used to explore and understand the client demographics and their level of engagement with the company."
   ]
  },
  {
   "cell_type": "code",
   "execution_count": 1,
   "id": "bf86eb0a",
   "metadata": {},
   "outputs": [],
   "source": [
    "import pandas as pd\n",
    "import matplotlib.pyplot as plt\n",
    "import seaborn as sns\n",
    "import numpy as np\n",
    "from sqlalchemy import create_engine\n",
    "import mysql.connector\n",
    "import pickle\n",
    "\n",
    "%matplotlib inline"
   ]
  },
  {
   "cell_type": "code",
   "execution_count": null,
   "id": "41f80002",
   "metadata": {},
   "outputs": [],
   "source": [
    "#Demographics like age, gender, and account details of our clients\n",
    "client_profile_df = pd.read_csv('df_final_demo.txt')\n",
    "\n",
    "#A detailed trace of client interactions online\n",
    "digital_footprints_1 = pd.read_csv('df_final_web_data_pt_1.txt')\n",
    "digital_footprints_2 = pd.read_csv('df_final_web_data_pt_2.txt')\n",
    "\n",
    "#A list revealing which clients were part of the grand experiment\n",
    "experiment_roster = pd.read_csv('df_final_experiment_clients.txt')"
   ]
  },
  {
   "cell_type": "code",
   "execution_count": null,
   "id": "5cfbff74",
   "metadata": {
    "scrolled": false
   },
   "outputs": [],
   "source": [
    "client_profile_df"
   ]
  },
  {
   "cell_type": "code",
   "execution_count": null,
   "id": "0e9f728d",
   "metadata": {},
   "outputs": [],
   "source": [
    "client_profile_df.rename(columns = {'clnt_age':'age','gendr':'gender','bal':'balance','clnt_tenure_yr':'tenure_year','clnt_tenure_mnth':'tenure_month'},inplace=True)"
   ]
  },
  {
   "cell_type": "code",
   "execution_count": null,
   "id": "906af54d",
   "metadata": {},
   "outputs": [],
   "source": [
    "client_profile_df.drop('tenure_month', axis=1, inplace=True)"
   ]
  },
  {
   "cell_type": "code",
   "execution_count": null,
   "id": "0710b5fb",
   "metadata": {
    "scrolled": true
   },
   "outputs": [],
   "source": [
    "client_profile_df['logons_6_mnth'].value_counts()"
   ]
  },
  {
   "cell_type": "code",
   "execution_count": null,
   "id": "cf7375ee",
   "metadata": {},
   "outputs": [],
   "source": [
    "client_profile_df.describe().round()"
   ]
  },
  {
   "cell_type": "code",
   "execution_count": null,
   "id": "08b6b782",
   "metadata": {
    "scrolled": true
   },
   "outputs": [],
   "source": [
    "client_profile_df['gender'].value_counts()"
   ]
  },
  {
   "cell_type": "code",
   "execution_count": null,
   "id": "d713d9aa",
   "metadata": {},
   "outputs": [],
   "source": [
    "client_profile_df['gender'] = client_profile_df['gender'].replace('X', 'U')"
   ]
  },
  {
   "cell_type": "code",
   "execution_count": null,
   "id": "1273a8a6",
   "metadata": {},
   "outputs": [],
   "source": [
    "client_profile_df['gender'].value_counts()"
   ]
  },
  {
   "cell_type": "code",
   "execution_count": null,
   "id": "61071dbc",
   "metadata": {
    "scrolled": false
   },
   "outputs": [],
   "source": [
    "bins = [0, 25, 50, 75, 100]  # Adjust the bin edges as needed\n",
    "labels = ['Adolescent', 'Adult', 'Middle Age', 'Senior']\n",
    "\n",
    "client_profile_df['name_age'] = pd.cut(client_profile_df['age'], bins=bins, labels=labels, right=False)\n",
    "\n",
    "group_age = client_profile_df['name_age'].value_counts()\n",
    "\n",
    "group_age.values"
   ]
  },
  {
   "cell_type": "code",
   "execution_count": null,
   "id": "6e2507d1",
   "metadata": {},
   "outputs": [],
   "source": [
    "client_profile_df['name_age'].isnull().sum()"
   ]
  },
  {
   "cell_type": "code",
   "execution_count": null,
   "id": "52070d92",
   "metadata": {},
   "outputs": [],
   "source": [
    "client_profile_df"
   ]
  },
  {
   "cell_type": "code",
   "execution_count": null,
   "id": "7cf38dbd",
   "metadata": {
    "scrolled": false
   },
   "outputs": [],
   "source": [
    "sns.barplot(x=group_age.index, y=group_age.values, palette=\"Set3\");"
   ]
  },
  {
   "cell_type": "code",
   "execution_count": null,
   "id": "18125d49",
   "metadata": {},
   "outputs": [],
   "source": [
    "bins = [0, 3, 6, 9]  # Adjust the bin edges as needed\n",
    "labels = ['Low', 'Average', 'Frequent']\n",
    "\n",
    "client_profile_df['logins'] = pd.cut(client_profile_df['logons_6_mnth'], bins=bins, labels=labels, right=False)\n",
    "\n",
    "primary = client_profile_df['logins'].value_counts()\n",
    "\n",
    "primary.values"
   ]
  },
  {
   "cell_type": "code",
   "execution_count": null,
   "id": "1920eabc",
   "metadata": {},
   "outputs": [],
   "source": [
    "sns.barplot(x=primary.index, y=primary.values, palette=\"Set3\");"
   ]
  },
  {
   "cell_type": "code",
   "execution_count": null,
   "id": "564975fb",
   "metadata": {},
   "outputs": [],
   "source": [
    "filter= client_profile_df[client_profile_df['logons_6_mnth'] > 3]\n",
    "\n",
    "primary_clients = filter[['age','gender','tenure_year','logons_6_mnth']]\n",
    "\n",
    "primary_clients.describe()"
   ]
  },
  {
   "cell_type": "code",
   "execution_count": null,
   "id": "bcae0556",
   "metadata": {},
   "outputs": [],
   "source": [
    "primary_clients.shape"
   ]
  },
  {
   "cell_type": "markdown",
   "id": "b892dd95",
   "metadata": {},
   "source": [
    "### Conclusion:\n",
    "\n",
    "The majority of clients are between the ages of 30 and 50 with an average of 46 years\n",
    "\n",
    "Although many clients have an unknown gender, we can assume that they are divided fairly equal between male and female\n",
    "\n",
    "The average years in Vanguard is 12 years\n",
    "\n",
    "The average number of accounts per clients is 2."
   ]
  }
 ],
 "metadata": {
  "kernelspec": {
   "display_name": "Python 3 (ipykernel)",
   "language": "python",
   "name": "python3"
  },
  "language_info": {
   "codemirror_mode": {
    "name": "ipython",
    "version": 3
   },
   "file_extension": ".py",
   "mimetype": "text/x-python",
   "name": "python",
   "nbconvert_exporter": "python",
   "pygments_lexer": "ipython3",
   "version": "3.11.7"
  }
 },
 "nbformat": 4,
 "nbformat_minor": 5
}
