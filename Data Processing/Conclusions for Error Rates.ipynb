{
 "cells": [
  {
   "cell_type": "code",
   "execution_count": 1,
   "id": "31f5ba18",
   "metadata": {},
   "outputs": [],
   "source": [
    "import pandas as pd\n",
    "import matplotlib.pyplot as plt \n",
    "import seaborn as sns \n",
    "import numpy as np\n",
    "%matplotlib inline"
   ]
  },
  {
   "cell_type": "code",
   "execution_count": 2,
   "id": "f726af88",
   "metadata": {},
   "outputs": [
    {
     "name": "stdout",
     "output_type": "stream",
     "text": [
      "                                  0        1  2  3\n",
      "0       68804396_74737424429_397490  1000062  0  1\n",
      "1       68804396_74737424429_397490  1000062  1  1\n",
      "2       68804396_74737424429_397490  1000062  2  1\n",
      "3       68804396_74737424429_397490  1000062  3  1\n",
      "4       68804396_74737424429_397490  1000062  4  1\n",
      "...                             ...      ... .. ..\n",
      "557609   931268933_219402947_599432  9999875  0  1\n",
      "557610   931268933_219402947_599432  9999875  1  2\n",
      "557611   931268933_219402947_599432  9999875  2  1\n",
      "557612   931268933_219402947_599432  9999875  3  1\n",
      "557613   931268933_219402947_599432  9999875  4  1\n",
      "\n",
      "[557614 rows x 4 columns]\n"
     ]
    }
   ],
   "source": [
    "import pickle\n",
    "\n",
    "#Replace 'path_to_pickle_file.pkl' with the actual path to your pickle file\n",
    "file_path = 'error_step.pkl'\n",
    "\n",
    "#Open the file in binary read mode and load its contents\n",
    "with open(file_path, 'rb') as file:\n",
    "    data = pickle.load(file)\n",
    "\n",
    "#Now 'data' contains the content of the pickle file\n",
    "print(data)\n"
   ]
  },
  {
   "cell_type": "code",
   "execution_count": 3,
   "id": "1cb5c7e9",
   "metadata": {
    "scrolled": false
   },
   "outputs": [
    {
     "data": {
      "text/html": [
       "<div>\n",
       "<style scoped>\n",
       "    .dataframe tbody tr th:only-of-type {\n",
       "        vertical-align: middle;\n",
       "    }\n",
       "\n",
       "    .dataframe tbody tr th {\n",
       "        vertical-align: top;\n",
       "    }\n",
       "\n",
       "    .dataframe thead th {\n",
       "        text-align: right;\n",
       "    }\n",
       "</style>\n",
       "<table border=\"1\" class=\"dataframe\">\n",
       "  <thead>\n",
       "    <tr style=\"text-align: right;\">\n",
       "      <th></th>\n",
       "      <th>0</th>\n",
       "      <th>1</th>\n",
       "      <th>2</th>\n",
       "      <th>3</th>\n",
       "    </tr>\n",
       "  </thead>\n",
       "  <tbody>\n",
       "    <tr>\n",
       "      <th>0</th>\n",
       "      <td>68804396_74737424429_397490</td>\n",
       "      <td>1000062</td>\n",
       "      <td>0</td>\n",
       "      <td>1</td>\n",
       "    </tr>\n",
       "    <tr>\n",
       "      <th>1</th>\n",
       "      <td>68804396_74737424429_397490</td>\n",
       "      <td>1000062</td>\n",
       "      <td>1</td>\n",
       "      <td>1</td>\n",
       "    </tr>\n",
       "    <tr>\n",
       "      <th>2</th>\n",
       "      <td>68804396_74737424429_397490</td>\n",
       "      <td>1000062</td>\n",
       "      <td>2</td>\n",
       "      <td>1</td>\n",
       "    </tr>\n",
       "    <tr>\n",
       "      <th>3</th>\n",
       "      <td>68804396_74737424429_397490</td>\n",
       "      <td>1000062</td>\n",
       "      <td>3</td>\n",
       "      <td>1</td>\n",
       "    </tr>\n",
       "    <tr>\n",
       "      <th>4</th>\n",
       "      <td>68804396_74737424429_397490</td>\n",
       "      <td>1000062</td>\n",
       "      <td>4</td>\n",
       "      <td>1</td>\n",
       "    </tr>\n",
       "    <tr>\n",
       "      <th>...</th>\n",
       "      <td>...</td>\n",
       "      <td>...</td>\n",
       "      <td>...</td>\n",
       "      <td>...</td>\n",
       "    </tr>\n",
       "    <tr>\n",
       "      <th>557609</th>\n",
       "      <td>931268933_219402947_599432</td>\n",
       "      <td>9999875</td>\n",
       "      <td>0</td>\n",
       "      <td>1</td>\n",
       "    </tr>\n",
       "    <tr>\n",
       "      <th>557610</th>\n",
       "      <td>931268933_219402947_599432</td>\n",
       "      <td>9999875</td>\n",
       "      <td>1</td>\n",
       "      <td>2</td>\n",
       "    </tr>\n",
       "    <tr>\n",
       "      <th>557611</th>\n",
       "      <td>931268933_219402947_599432</td>\n",
       "      <td>9999875</td>\n",
       "      <td>2</td>\n",
       "      <td>1</td>\n",
       "    </tr>\n",
       "    <tr>\n",
       "      <th>557612</th>\n",
       "      <td>931268933_219402947_599432</td>\n",
       "      <td>9999875</td>\n",
       "      <td>3</td>\n",
       "      <td>1</td>\n",
       "    </tr>\n",
       "    <tr>\n",
       "      <th>557613</th>\n",
       "      <td>931268933_219402947_599432</td>\n",
       "      <td>9999875</td>\n",
       "      <td>4</td>\n",
       "      <td>1</td>\n",
       "    </tr>\n",
       "  </tbody>\n",
       "</table>\n",
       "<p>557614 rows × 4 columns</p>\n",
       "</div>"
      ],
      "text/plain": [
       "                                  0        1  2  3\n",
       "0       68804396_74737424429_397490  1000062  0  1\n",
       "1       68804396_74737424429_397490  1000062  1  1\n",
       "2       68804396_74737424429_397490  1000062  2  1\n",
       "3       68804396_74737424429_397490  1000062  3  1\n",
       "4       68804396_74737424429_397490  1000062  4  1\n",
       "...                             ...      ... .. ..\n",
       "557609   931268933_219402947_599432  9999875  0  1\n",
       "557610   931268933_219402947_599432  9999875  1  2\n",
       "557611   931268933_219402947_599432  9999875  2  1\n",
       "557612   931268933_219402947_599432  9999875  3  1\n",
       "557613   931268933_219402947_599432  9999875  4  1\n",
       "\n",
       "[557614 rows x 4 columns]"
      ]
     },
     "execution_count": 3,
     "metadata": {},
     "output_type": "execute_result"
    }
   ],
   "source": [
    "data"
   ]
  },
  {
   "cell_type": "code",
   "execution_count": 4,
   "id": "3cd42bc5",
   "metadata": {
    "scrolled": true
   },
   "outputs": [
    {
     "data": {
      "text/html": [
       "<div>\n",
       "<style scoped>\n",
       "    .dataframe tbody tr th:only-of-type {\n",
       "        vertical-align: middle;\n",
       "    }\n",
       "\n",
       "    .dataframe tbody tr th {\n",
       "        vertical-align: top;\n",
       "    }\n",
       "\n",
       "    .dataframe thead th {\n",
       "        text-align: right;\n",
       "    }\n",
       "</style>\n",
       "<table border=\"1\" class=\"dataframe\">\n",
       "  <thead>\n",
       "    <tr style=\"text-align: right;\">\n",
       "      <th></th>\n",
       "      <th>visitor_id</th>\n",
       "      <th>client_id</th>\n",
       "      <th>process_steps</th>\n",
       "      <th>count_of_steps</th>\n",
       "    </tr>\n",
       "  </thead>\n",
       "  <tbody>\n",
       "    <tr>\n",
       "      <th>0</th>\n",
       "      <td>68804396_74737424429_397490</td>\n",
       "      <td>1000062</td>\n",
       "      <td>0</td>\n",
       "      <td>1</td>\n",
       "    </tr>\n",
       "    <tr>\n",
       "      <th>1</th>\n",
       "      <td>68804396_74737424429_397490</td>\n",
       "      <td>1000062</td>\n",
       "      <td>1</td>\n",
       "      <td>1</td>\n",
       "    </tr>\n",
       "    <tr>\n",
       "      <th>2</th>\n",
       "      <td>68804396_74737424429_397490</td>\n",
       "      <td>1000062</td>\n",
       "      <td>2</td>\n",
       "      <td>1</td>\n",
       "    </tr>\n",
       "    <tr>\n",
       "      <th>3</th>\n",
       "      <td>68804396_74737424429_397490</td>\n",
       "      <td>1000062</td>\n",
       "      <td>3</td>\n",
       "      <td>1</td>\n",
       "    </tr>\n",
       "    <tr>\n",
       "      <th>4</th>\n",
       "      <td>68804396_74737424429_397490</td>\n",
       "      <td>1000062</td>\n",
       "      <td>4</td>\n",
       "      <td>1</td>\n",
       "    </tr>\n",
       "    <tr>\n",
       "      <th>...</th>\n",
       "      <td>...</td>\n",
       "      <td>...</td>\n",
       "      <td>...</td>\n",
       "      <td>...</td>\n",
       "    </tr>\n",
       "    <tr>\n",
       "      <th>557609</th>\n",
       "      <td>931268933_219402947_599432</td>\n",
       "      <td>9999875</td>\n",
       "      <td>0</td>\n",
       "      <td>1</td>\n",
       "    </tr>\n",
       "    <tr>\n",
       "      <th>557610</th>\n",
       "      <td>931268933_219402947_599432</td>\n",
       "      <td>9999875</td>\n",
       "      <td>1</td>\n",
       "      <td>2</td>\n",
       "    </tr>\n",
       "    <tr>\n",
       "      <th>557611</th>\n",
       "      <td>931268933_219402947_599432</td>\n",
       "      <td>9999875</td>\n",
       "      <td>2</td>\n",
       "      <td>1</td>\n",
       "    </tr>\n",
       "    <tr>\n",
       "      <th>557612</th>\n",
       "      <td>931268933_219402947_599432</td>\n",
       "      <td>9999875</td>\n",
       "      <td>3</td>\n",
       "      <td>1</td>\n",
       "    </tr>\n",
       "    <tr>\n",
       "      <th>557613</th>\n",
       "      <td>931268933_219402947_599432</td>\n",
       "      <td>9999875</td>\n",
       "      <td>4</td>\n",
       "      <td>1</td>\n",
       "    </tr>\n",
       "  </tbody>\n",
       "</table>\n",
       "<p>557614 rows × 4 columns</p>\n",
       "</div>"
      ],
      "text/plain": [
       "                         visitor_id client_id process_steps  count_of_steps\n",
       "0       68804396_74737424429_397490   1000062             0               1\n",
       "1       68804396_74737424429_397490   1000062             1               1\n",
       "2       68804396_74737424429_397490   1000062             2               1\n",
       "3       68804396_74737424429_397490   1000062             3               1\n",
       "4       68804396_74737424429_397490   1000062             4               1\n",
       "...                             ...       ...           ...             ...\n",
       "557609   931268933_219402947_599432   9999875             0               1\n",
       "557610   931268933_219402947_599432   9999875             1               2\n",
       "557611   931268933_219402947_599432   9999875             2               1\n",
       "557612   931268933_219402947_599432   9999875             3               1\n",
       "557613   931268933_219402947_599432   9999875             4               1\n",
       "\n",
       "[557614 rows x 4 columns]"
      ]
     },
     "execution_count": 4,
     "metadata": {},
     "output_type": "execute_result"
    }
   ],
   "source": [
    "data.rename(columns = {0:'visitor_id', 1:'client_id', 2:'process_steps', 3:'count_of_steps'}, inplace=True)\n",
    "data\n"
   ]
  },
  {
   "cell_type": "code",
   "execution_count": 8,
   "id": "eeb50d8c",
   "metadata": {},
   "outputs": [
    {
     "data": {
      "image/png": "[encoded data removed]",
      "text/plain": [
       "<Figure size 640x480 with 1 Axes>"
      ]
     },
     "metadata": {},
     "output_type": "display_data"
    }
   ],
   "source": [
    "# Plot distribution of steps taken\n",
    "sns.histplot(data['count_of_steps'], bins=20)\n",
    "plt.xlabel('Number of Steps')\n",
    "plt.ylabel('Frequency')\n",
    "plt.title('Distribution of Steps Taken by Clients')\n",
    "plt.show()"
   ]
  },
  {
   "cell_type": "code",
   "execution_count": 9,
   "id": "a612466f",
   "metadata": {
    "scrolled": true
   },
   "outputs": [
    {
     "data": {
      "image/png": "[encoded data removed]",
      "text/plain": [
       "<Figure size 640x480 with 1 Axes>"
      ]
     },
     "metadata": {},
     "output_type": "display_data"
    }
   ],
   "source": [
    "# Determine completion rates\n",
    "completion_rates = data.groupby('count_of_steps')['client_id'].count() / data['client_id'].nunique()\n",
    "completion_rates = completion_rates.reset_index()\n",
    "completion_rates.columns = ['count_of_steps', 'completion_rate']\n",
    "\n",
    "# Plot completion rates\n",
    "sns.lineplot(x='count_of_steps', y='completion_rate', data=completion_rates)\n",
    "plt.xlabel('Number of Steps')\n",
    "plt.ylabel('Completion Rate')\n",
    "plt.title('Completion Rate vs. Number of Steps')\n",
    "plt.show()"
   ]
  },
  {
   "cell_type": "code",
   "execution_count": 10,
   "id": "d041d6ef",
   "metadata": {},
   "outputs": [
    {
     "data": {
      "image/png": "[encoded data removed]",
      "text/plain": [
       "<Figure size 640x480 with 1 Axes>"
      ]
     },
     "metadata": {},
     "output_type": "display_data"
    }
   ],
   "source": [
    "# Average steps by process steps\n",
    "average_steps = data.groupby('process_steps')['count_of_steps'].mean().reset_index()\n",
    "\n",
    "# Plot average steps\n",
    "sns.barplot(x='process_steps', y='count_of_steps', data=average_steps)\n",
    "plt.xlabel('Process Steps')\n",
    "plt.ylabel('Average Number of Steps')\n",
    "plt.title('Average Number of Steps by Process Steps')\n",
    "plt.show()"
   ]
  },
  {
   "cell_type": "markdown",
   "id": "8302a34b",
   "metadata": {},
   "source": [
    "# Distribution of Steps Taken by Clients:\n",
    "\n",
    "#The histogram shows that most clients complete their tasks within a smaller number of steps, indicating that the process might be efficient for a majority of users.\n",
    "\n",
    "#Completion Rate vs. Number of Steps:\n",
    "\n",
    "#The line plot indicates that the completion rate decreases as the number of steps increases. This suggests that users are less likely to complete processes that require more steps.\n",
    "#Average Number of Steps by Process Steps:\n",
    "\n",
    "#The bar plot shows the average number of steps for each process step. This can help identify which steps in the process are more time-consuming and might need improvement."
   ]
  },
  {
   "cell_type": "code",
   "execution_count": 15,
   "id": "2039efbc",
   "metadata": {
    "scrolled": true
   },
   "outputs": [
    {
     "name": "stdout",
     "output_type": "stream",
     "text": [
      "                    visitor_id  client_id  process_steps  count_of_steps\n",
      "0  68804396_74737424429_397490    1000062              0               1\n",
      "1  68804396_74737424429_397490    1000062              1               1\n",
      "2  68804396_74737424429_397490    1000062              2               1\n",
      "3  68804396_74737424429_397490    1000062              3               1\n",
      "4  68804396_74737424429_397490    1000062              4               1\n",
      "<class 'pandas.core.frame.DataFrame'>\n",
      "RangeIndex: 557614 entries, 0 to 557613\n",
      "Data columns (total 4 columns):\n",
      " #   Column          Non-Null Count   Dtype \n",
      "---  ------          --------------   ----- \n",
      " 0   visitor_id      557614 non-null  object\n",
      " 1   client_id       557614 non-null  int64 \n",
      " 2   process_steps   557614 non-null  int64 \n",
      " 3   count_of_steps  557614 non-null  int64 \n",
      "dtypes: int64(3), object(1)\n",
      "memory usage: 17.0+ MB\n",
      "None\n",
      "          client_id  process_steps  count_of_steps\n",
      "count  5.576140e+05  557614.000000   557614.000000\n",
      "mean   5.012493e+06       1.758539        1.354710\n",
      "std    2.881550e+06       1.423158        0.891827\n",
      "min    1.690000e+02       0.000000        1.000000\n",
      "25%    2.523868e+06       0.000000        1.000000\n",
      "50%    5.018692e+06       2.000000        1.000000\n",
      "75%    7.506868e+06       3.000000        1.000000\n",
      "max    9.999875e+06       4.000000       48.000000\n"
     ]
    }
   ],
   "source": [
    "# Load the data (replace 'your_data.csv' with the actual file path)\n",
    "data = pd.read_csv('error_step.csv')\n",
    "\n",
    "# Display the first few rows of the dataset\n",
    "print(data.head())\n",
    "\n",
    "# Display information about the dataset\n",
    "print(data.info())\n",
    "\n",
    "# Display basic statistics for numerical columns\n",
    "print(data.describe())"
   ]
  },
  {
   "cell_type": "code",
   "execution_count": 16,
   "id": "3768ca67",
   "metadata": {},
   "outputs": [
    {
     "name": "stdout",
     "output_type": "stream",
     "text": [
      "visitor_id        0\n",
      "client_id         0\n",
      "process_steps     0\n",
      "count_of_steps    0\n",
      "dtype: int64\n"
     ]
    }
   ],
   "source": [
    "# Check for missing values\n",
    "print(data.isnull().sum())\n",
    "\n",
    "# Handle missing values (for simplicity, dropping them)\n",
    "data = data.dropna()\n",
    "\n",
    "# Ensure data types are correct\n",
    "data['visitor_id'] = data['visitor_id'].astype(str)\n",
    "data['client_id'] = data['client_id'].astype(str)\n",
    "data['process_steps'] = data['process_steps'].astype(int)\n",
    "data['count_of_steps'] = data['count_of_steps'].astype(int)\n"
   ]
  },
  {
   "cell_type": "code",
   "execution_count": 17,
   "id": "6a60a22c",
   "metadata": {},
   "outputs": [
    {
     "data": {
      "image/png": "[encoded data removed]",
      "text/plain": [
       "<Figure size 640x480 with 1 Axes>"
      ]
     },
     "metadata": {},
     "output_type": "display_data"
    }
   ],
   "source": [
    "# Create a new column to indicate if a user dropped off (1 if dropped off, 0 otherwise)\n",
    "# Assuming the maximum step in the process is `max_step`\n",
    "max_step = data['process_steps'].max()\n",
    "data['drop_off'] = data.apply(lambda row: 1 if row['process_steps'] < max_step else 0, axis=1)\n",
    "\n",
    "# Calculate drop-off rate by process steps\n",
    "drop_off_rate_by_process = data.groupby('process_steps')['drop_off'].mean().reset_index()\n",
    "drop_off_rate_by_process.columns = ['process_steps', 'drop_off_rate']\n",
    "\n",
    "# Plot drop-off rate by process steps\n",
    "sns.barplot(x='process_steps', y='drop_off_rate', data=drop_off_rate_by_process)\n",
    "plt.xlabel('Process Steps')\n",
    "plt.ylabel('Drop-Off Rate')\n",
    "plt.title('Drop-Off Rate by Process Steps')\n",
    "plt.show()\n"
   ]
  },
  {
   "cell_type": "markdown",
   "id": "7bb8d953",
   "metadata": {},
   "source": [
    "Conclusion: \n",
    "\n",
    "Drop-Off Rate by Process Steps:\n",
    "\n",
    "The bar plot indicates which steps in the process have the highest drop-off rates, suggesting areas where users are more likely to abandon the process."
   ]
  },
  {
   "cell_type": "markdown",
   "id": "ee1f5189",
   "metadata": {},
   "source": [
    "# Error Rates:\n",
    "Definition: The frequency of instances where users go back to a previous step, indicating potential confusion or errors.\n",
    "Calculation: Number of instances where users go back to a previous step / Total number of users.\n"
   ]
  },
  {
   "cell_type": "code",
   "execution_count": 19,
   "id": "49bdb025",
   "metadata": {},
   "outputs": [
    {
     "name": "stdout",
     "output_type": "stream",
     "text": [
      "                    visitor_id client_id  process_steps  count_of_steps  \\\n",
      "0  68804396_74737424429_397490   1000062              0               1   \n",
      "1  68804396_74737424429_397490   1000062              1               1   \n",
      "2  68804396_74737424429_397490   1000062              2               1   \n",
      "3  68804396_74737424429_397490   1000062              3               1   \n",
      "4  68804396_74737424429_397490   1000062              4               1   \n",
      "\n",
      "   drop_off  \n",
      "0         1  \n",
      "1         1  \n",
      "2         1  \n",
      "3         1  \n",
      "4         0  \n",
      "<class 'pandas.core.frame.DataFrame'>\n",
      "RangeIndex: 557614 entries, 0 to 557613\n",
      "Data columns (total 5 columns):\n",
      " #   Column          Non-Null Count   Dtype \n",
      "---  ------          --------------   ----- \n",
      " 0   visitor_id      557614 non-null  object\n",
      " 1   client_id       557614 non-null  object\n",
      " 2   process_steps   557614 non-null  int64 \n",
      " 3   count_of_steps  557614 non-null  int64 \n",
      " 4   drop_off        557614 non-null  int64 \n",
      "dtypes: int64(3), object(2)\n",
      "memory usage: 21.3+ MB\n",
      "None\n",
      "       process_steps  count_of_steps       drop_off\n",
      "count  557614.000000   557614.000000  557614.000000\n",
      "mean        1.758539        1.354710       0.837454\n",
      "std         1.423158        0.891827       0.368951\n",
      "min         0.000000        1.000000       0.000000\n",
      "25%         0.000000        1.000000       1.000000\n",
      "50%         2.000000        1.000000       1.000000\n",
      "75%         3.000000        1.000000       1.000000\n",
      "max         4.000000       48.000000       1.000000\n",
      "Number of instances where users go back to a previous step: 0\n",
      "Total number of users: 158095\n",
      "Metric (instances of going back / total users): 0.00%\n"
     ]
    }
   ],
   "source": [
    "# Display the first few rows of the dataset\n",
    "print(data.head())\n",
    "\n",
    "# Display information about the dataset\n",
    "print(data.info())\n",
    "\n",
    "# Display basic statistics for numerical columns\n",
    "print(data.describe())\n",
    "\n",
    "# Ensure data is sorted by visitor_id and process_steps\n",
    "data = data.sort_values(by=['visitor_id', 'process_steps'])\n",
    "\n",
    "# Create a new column to indicate the previous step for each user\n",
    "data['previous_step'] = data.groupby('visitor_id')['process_steps'].shift(1)\n",
    "\n",
    "# Identify where users go back to a previous step\n",
    "data['went_back'] = np.where(data['process_steps'] < data['previous_step'], 1, 0)\n",
    "\n",
    "# Calculate the number of instances where users go back to a previous step\n",
    "instances_of_going_back = data['went_back'].sum()\n",
    "\n",
    "# Calculate the total number of unique users\n",
    "total_users = data['visitor_id'].nunique()\n",
    "\n",
    "# Calculate the desired metric\n",
    "metric = instances_of_going_back / total_users\n",
    "\n",
    "print(f\"Number of instances where users go back to a previous step: {instances_of_going_back}\")\n",
    "print(f\"Total number of users: {total_users}\")\n",
    "print(f\"Metric (instances of going back / total users): {metric:.2%}\")"
   ]
  },
  {
   "cell_type": "code",
   "execution_count": null,
   "id": "a9b5272c",
   "metadata": {},
   "outputs": [],
   "source": []
  },
  {
   "cell_type": "code",
   "execution_count": null,
   "id": "0b2aefc8",
   "metadata": {},
   "outputs": [],
   "source": []
  },
  {
   "cell_type": "code",
   "execution_count": null,
   "id": "2db0a358",
   "metadata": {},
   "outputs": [],
   "source": []
  },
  {
   "cell_type": "code",
   "execution_count": 7,
   "id": "70efcd07",
   "metadata": {},
   "outputs": [],
   "source": [
    "\n",
    "#0 - visitor id \n",
    "\n",
    "#1 client id \n",
    "\n",
    "#2 - process_step\n",
    "\n",
    "#3 - count_of_step\n",
    "\n"
   ]
  },
  {
   "cell_type": "code",
   "execution_count": 5,
   "id": "2acc928c",
   "metadata": {},
   "outputs": [],
   "source": [
    "#data.to_csv('error_step.csv', index=False)"
   ]
  },
  {
   "cell_type": "code",
   "execution_count": null,
   "id": "6a44ce9e",
   "metadata": {},
   "outputs": [],
   "source": []
  }
 ],
 "metadata": {
  "kernelspec": {
   "display_name": "Python 3 (ipykernel)",
   "language": "python",
   "name": "python3"
  },
  "language_info": {
   "codemirror_mode": {
    "name": "ipython",
    "version": 3
   },
   "file_extension": ".py",
   "mimetype": "text/x-python",
   "name": "python",
   "nbconvert_exporter": "python",
   "pygments_lexer": "ipython3",
   "version": "3.11.7"
  }
 },
 "nbformat": 4,
 "nbformat_minor": 5
}
