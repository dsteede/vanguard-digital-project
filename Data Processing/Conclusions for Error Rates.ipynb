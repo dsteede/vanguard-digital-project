{
 "cells": [
  {
   "cell_type": "code",
   "execution_count": 37,
   "id": "31f5ba18",
   "metadata": {},
   "outputs": [],
   "source": [
    "import pandas as pd\n",
    "import matplotlib.pyplot as plt\n",
    "import seaborn as sns\n",
    "import numpy as np\n",
    "from sqlalchemy import create_engine\n",
    "import mysql.connector\n",
    "import pickle\n",
    "import scipy.stats as st\n",
    "\n",
    "%matplotlib inline"
   ]
  },
  {
   "cell_type": "code",
   "execution_count": 2,
   "id": "838ebf04",
   "metadata": {},
   "outputs": [
    {
     "name": "stdout",
     "output_type": "stream",
     "text": [
      "········\n"
     ]
    }
   ],
   "source": [
    "import getpass  # To get the password without showing the input\n",
    "password = getpass.getpass()"
   ]
  },
  {
   "cell_type": "markdown",
   "id": "9c8f38a7",
   "metadata": {},
   "source": [
    "We define interaction as: activity or engagement between the client and the step in the process being analyzed per visit. \n",
    "So attempting step 3 4 times is one interaction.\n",
    "\n",
    "We define error as an interaction with a step attempt higher than 1,indicating possible confusion or errors. So attempting step 3 4 times is considered an error.\n",
    "\n",
    "We define non-error as an interaction with a step attempt equal to 1. So attempting step 3 one time is considered non-error, \n",
    "even if they abandon the process at that step."
   ]
  },
  {
   "cell_type": "code",
   "execution_count": 3,
   "id": "fee3f157",
   "metadata": {},
   "outputs": [],
   "source": [
    "# Connect to MySQL database\n",
    "conn = mysql.connector.connect(host='127.0.0.1', user='root', passwd=password)\n",
    "cursor = conn.cursor()\n",
    "\n",
    "#Select the database\n",
    "cursor.execute(\"USE vanguard\")"
   ]
  },
  {
   "cell_type": "code",
   "execution_count": 6,
   "id": "7ed3f87d",
   "metadata": {},
   "outputs": [],
   "source": [
    "cursor.execute(\"\"\"\n",
    "                  SELECT \n",
    "                        clients.client_id,\n",
    "                        interactions.visit_id,\n",
    "                        interactions.process_step,\n",
    "                        COUNT(interactions.process_step) AS step_attempt,\n",
    "                        group_id.variation\n",
    "                    FROM clients\n",
    "                    JOIN interactions ON clients.client_id = interactions.client_id\n",
    "                    JOIN group_id ON group_id.client_id = clients.client_id\n",
    "                    WHERE group_id.variation IN ('Control', 'Test')\n",
    "                    GROUP BY \n",
    "                        clients.client_id,\n",
    "                        interactions.visit_id,\n",
    "                        interactions.process_step,\n",
    "                        group_id.variation;\n",
    "             \"\"\")\n",
    "\n",
    "results = cursor.fetchall()\n",
    "\n",
    "total_interactions = pd.DataFrame(results)"
   ]
  },
  {
   "cell_type": "code",
   "execution_count": 27,
   "id": "1260d3e2",
   "metadata": {},
   "outputs": [
    {
     "name": "stdout",
     "output_type": "stream",
     "text": [
      "The overall error rate is: 21.16%\n"
     ]
    }
   ],
   "source": [
    "\"\"\"\n",
    "total interactions with the website by client, per visit, per step from people in test or control. \n",
    "total interactions with the site: 239331\n",
    "\"\"\"\n",
    "\n",
    "total_interactions.rename(columns = {0:'client_id', 1:'visit_id', 2:'process_step', 3:'step_attempt', 4:'group_id'}, inplace=True)\n",
    "len(total_interactions)\n",
    "\n",
    "\"\"\"\n",
    "If we want the error rate, we filter out any times the step is only done once to focus on errors.\n",
    "interactions with error = 50650 \n",
    "\"\"\"\n",
    "\n",
    "error_filter = total_interactions[total_interactions[\"step_attempt\"] > 1]\n",
    "len(error_filter)\n",
    "\n",
    "\"\"\"So if we know the number of total attempts and the number of error attempts, we can calculate an error rate\"\"\"\n",
    "\n",
    "error_rate_overall = round(len(error_filter)/len(total_interactions)*100,2)\n",
    "print(f\"The overall error rate is: {error_rate_overall}%\") "
   ]
  },
  {
   "cell_type": "code",
   "execution_count": 23,
   "id": "df2ae2fd",
   "metadata": {},
   "outputs": [
    {
     "name": "stdout",
     "output_type": "stream",
     "text": [
      "The error rate for the test group is: 22.46%\n"
     ]
    }
   ],
   "source": [
    "#we look at interactions from the test group\n",
    "cursor.execute(\"\"\"\n",
    "                  SELECT \n",
    "                        clients.client_id,\n",
    "                        interactions.visit_id,\n",
    "                        interactions.process_step,\n",
    "                        COUNT(interactions.process_step) AS step_attempt,\n",
    "                        group_id.variation\n",
    "                    FROM clients\n",
    "                    JOIN interactions ON clients.client_id = interactions.client_id\n",
    "                    JOIN group_id ON group_id.client_id = clients.client_id\n",
    "                    WHERE group_id.variation IN ('Test')\n",
    "                    GROUP BY \n",
    "                        clients.client_id,\n",
    "                        interactions.visit_id,\n",
    "                        interactions.process_step,\n",
    "                        group_id.variation;\n",
    "             \"\"\")\n",
    "\n",
    "results = cursor.fetchall()\n",
    "\n",
    "test_group_interactions = pd.DataFrame(results)\n"
   ]
  },
  {
   "cell_type": "code",
   "execution_count": 22,
   "id": "7c9f0829",
   "metadata": {},
   "outputs": [
    {
     "name": "stdout",
     "output_type": "stream",
     "text": [
      "The error rate for the test group is: 22.46%\n"
     ]
    }
   ],
   "source": [
    "#the test group had 130159 interactions overall\n",
    "\n",
    "test_group_interactions.rename(columns = {0:'client_id', 1:'visit_id', 2:'process_step', 3:'step_attempt', 4:'group_id'}, inplace=True)\n",
    "test_group_interactions\n",
    "\n",
    "#the test group had 29239 attempts with errors\n",
    "\n",
    "test_error_filter = test_group_interactions[test_group_interactions[\"step_attempt\"] > 1]\n",
    "test_error_filter\n",
    "\n",
    "test_error_rate = round(len(test_error_filter)/len(test_group_interactions)*100,2)\n",
    "print(f\"The error rate for the test group is: {test_error_rate}%\") "
   ]
  },
  {
   "cell_type": "code",
   "execution_count": 24,
   "id": "eceed3f1",
   "metadata": {},
   "outputs": [],
   "source": [
    "#we look at interactions from the control group\n",
    "cursor.execute(\"\"\"\n",
    "                  SELECT \n",
    "                        clients.client_id,\n",
    "                        interactions.visit_id,\n",
    "                        interactions.process_step,\n",
    "                        COUNT(interactions.process_step) AS step_attempt,\n",
    "                        group_id.variation\n",
    "                    FROM clients\n",
    "                    JOIN interactions ON clients.client_id = interactions.client_id\n",
    "                    JOIN group_id ON group_id.client_id = clients.client_id\n",
    "                    WHERE group_id.variation IN ('Control')\n",
    "                    GROUP BY \n",
    "                        clients.client_id,\n",
    "                        interactions.visit_id,\n",
    "                        interactions.process_step,\n",
    "                        group_id.variation;\n",
    "             \"\"\")\n",
    "\n",
    "results = cursor.fetchall()\n",
    "\n",
    "control_group_interactions = pd.DataFrame(results)\n"
   ]
  },
  {
   "cell_type": "code",
   "execution_count": 30,
   "id": "b482cf86",
   "metadata": {},
   "outputs": [
    {
     "name": "stdout",
     "output_type": "stream",
     "text": [
      "The error rate for the control group is: 19.61%\n"
     ]
    }
   ],
   "source": [
    "#the control group had 109172 interactions overall\n",
    "\n",
    "control_group_interactions.rename(columns = {0:'client_id', 1:'visit_id', 2:'process_step', 3:'step_attempt', 4:'group_id'}, inplace=True)\n",
    "len(control_group_interactions)\n",
    "\n",
    "#the control group had 21411 interactions with errors\n",
    "\n",
    "control_error_filter = control_group_interactions[control_group_interactions[\"step_attempt\"] > 1]\n",
    "len(control_error_filter)\n",
    "\n",
    "control_error_rate = round(len(control_error_filter)/len(control_group_interactions)*100,2)\n",
    "print(f\"The error rate for the control group is: {control_error_rate}%\") "
   ]
  },
  {
   "cell_type": "code",
   "execution_count": 44,
   "id": "42dfc1e1",
   "metadata": {},
   "outputs": [
    {
     "name": "stdout",
     "output_type": "stream",
     "text": [
      "Chi-square statistic: 288.9068783607042\n",
      "p-value: 8.604767700438106e-65\n"
     ]
    }
   ],
   "source": [
    "#what is the statistical significance of the error rates\n",
    "\n",
    "from scipy.stats import chi2_contingency\n",
    "\n",
    "# Error rates\n",
    "error_rate_test = 0.2246  # 22.46%\n",
    "error_rate_control = 0.1961  # 19.61%\n",
    "\n",
    "# Sample sizes (you need to provide these)\n",
    "n_test =  len(test_group_interactions)\n",
    "n_control =  len(control_group_interactions)\n",
    "\n",
    "# Number of errors and non-errors in each group\n",
    "test_errors = error_rate_test * n_test\n",
    "test_non_errors = n_test - test_errors\n",
    "\n",
    "control_errors = error_rate_control * n_control\n",
    "control_non_errors = n_control - control_errors\n",
    "\n",
    "# Create a contingency table\n",
    "observed = np.array([[test_errors, control_errors],\n",
    "                     [test_non_errors, control_non_errors]])\n",
    "\n",
    "# Perform chi-square test\n",
    "chi2, p_value, _, _ = chi2_contingency(observed)\n",
    "\n",
    "print(\"Chi-square statistic:\", chi2)\n",
    "print(\"p-value:\", p_value)"
   ]
  },
  {
   "cell_type": "code",
   "execution_count": 50,
   "id": "7803ac27",
   "metadata": {},
   "outputs": [
    {
     "name": "stdout",
     "output_type": "stream",
     "text": [
      "T-test result:\n",
      "T-statistic: -14.459045\n",
      "P-value: 2.303818e-47\n"
     ]
    }
   ],
   "source": [
    "er_control = total_interactions[total_interactions[\"group_id\"] == \"Control\"][\"step_attempt\"]\n",
    "er_test = total_interactions[total_interactions[\"group_id\"] == \"Test\"][\"step_attempt\"]\n",
    "\n",
    "t_statistic, p_value = st.ttest_ind(er_control, er_test, equal_var=False)\n",
    "\n",
    "print(\"T-test result:\")\n",
    "print(f\"T-statistic: {t_statistic:.6f}\")\n",
    "print(f\"P-value: {p_value:.6e}\")"
   ]
  },
  {
   "cell_type": "code",
   "execution_count": 55,
   "id": "83fb72d2",
   "metadata": {},
   "outputs": [],
   "source": [
    "#we look at only the interactions with errors of clients who reached the confirm stage\n",
    "cursor.execute(\"\"\"\n",
    "                  SELECT \n",
    "    clients.client_id,\n",
    "    interactions.visit_id,\n",
    "    interactions.process_step,\n",
    "    group_id.variation,\n",
    "    COUNT(*) AS attempts\n",
    "FROM clients\n",
    "JOIN interactions ON clients.client_id = interactions.client_id\n",
    "JOIN group_id ON group_id.client_id = clients.client_id\n",
    "WHERE group_id.variation IN ('Control', 'Test')\n",
    " AND clients.client_id IN (\n",
    "        SELECT DISTINCT clients.client_id \n",
    "        FROM clients\n",
    "        JOIN interactions ON clients.client_id = interactions.client_id\n",
    "        WHERE interactions.process_step = '4')\n",
    "GROUP BY \n",
    "    clients.client_id,\n",
    "    interactions.visit_id,\n",
    "    interactions.process_step,\n",
    "    group_id.variation\n",
    "HAVING COUNT(*) > 1;\n",
    "             \"\"\")\n",
    "\n",
    "results = cursor.fetchall()\n",
    "\n",
    "confirmed_only_errors = pd.DataFrame(results)"
   ]
  },
  {
   "cell_type": "code",
   "execution_count": 54,
   "id": "30904fec",
   "metadata": {},
   "outputs": [],
   "source": [
    "#we look at all the interactions of clients who reached the confirm stage\n",
    "cursor.execute(\"\"\"\n",
    "                  SELECT \n",
    "    clients.client_id,\n",
    "    interactions.visit_id,\n",
    "    interactions.process_step,\n",
    "    group_id.variation,\n",
    "    COUNT(*) AS attempts\n",
    "FROM clients\n",
    "JOIN interactions ON clients.client_id = interactions.client_id\n",
    "JOIN group_id ON group_id.client_id = clients.client_id\n",
    "WHERE group_id.variation IN ('Control', 'Test')\n",
    " AND clients.client_id IN (\n",
    "        SELECT DISTINCT clients.client_id \n",
    "        FROM clients\n",
    "        JOIN interactions ON clients.client_id = interactions.client_id\n",
    "        WHERE interactions.process_step = '4')\n",
    "GROUP BY \n",
    "    clients.client_id,\n",
    "    interactions.visit_id,\n",
    "    interactions.process_step,\n",
    "    group_id.variation;\n",
    "             \"\"\")\n",
    "\n",
    "results = cursor.fetchall()\n",
    "\n",
    "confirmed_with_errors = pd.DataFrame(results)"
   ]
  },
  {
   "cell_type": "code",
   "execution_count": 57,
   "id": "677711a1",
   "metadata": {},
   "outputs": [
    {
     "name": "stdout",
     "output_type": "stream",
     "text": [
      "The overall error rate of people who completed the process is: 17.53%\n"
     ]
    }
   ],
   "source": [
    "error_rate_confirmers = round(len(confirmed_only_errors)/len(confirmed_with_errors)*100,2)\n",
    "print(f\"The overall error rate of people who completed the process is: {error_rate_confirmers }%\") "
   ]
  },
  {
   "cell_type": "code",
   "execution_count": 60,
   "id": "573995c6",
   "metadata": {},
   "outputs": [
    {
     "data": {
      "text/plain": [
       "19271"
      ]
     },
     "execution_count": 60,
     "metadata": {},
     "output_type": "execute_result"
    }
   ],
   "source": [
    "#we look at only the interactions with errors of clients who reached the confirm stage in the test group\n",
    "cursor.execute(\"\"\"\n",
    "                  SELECT \n",
    "    clients.client_id,\n",
    "    interactions.visit_id,\n",
    "    interactions.process_step,\n",
    "    group_id.variation,\n",
    "    COUNT(*) AS attempts\n",
    "FROM clients\n",
    "JOIN interactions ON clients.client_id = interactions.client_id\n",
    "JOIN group_id ON group_id.client_id = clients.client_id\n",
    "WHERE group_id.variation IN ('Test')\n",
    " AND clients.client_id IN (\n",
    "        SELECT DISTINCT clients.client_id \n",
    "        FROM clients\n",
    "        JOIN interactions ON clients.client_id = interactions.client_id\n",
    "        WHERE interactions.process_step = '4')\n",
    "GROUP BY \n",
    "    clients.client_id,\n",
    "    interactions.visit_id,\n",
    "    interactions.process_step,\n",
    "    group_id.variation\n",
    "HAVING COUNT(*) > 1;\n",
    "             \"\"\")\n",
    "\n",
    "results = cursor.fetchall()\n",
    "\n",
    "errors_finished_test = pd.DataFrame(results)\n",
    "\n",
    "len(errors_finished_test)"
   ]
  },
  {
   "cell_type": "code",
   "execution_count": 61,
   "id": "afe55213",
   "metadata": {},
   "outputs": [
    {
     "data": {
      "text/plain": [
       "105592"
      ]
     },
     "execution_count": 61,
     "metadata": {},
     "output_type": "execute_result"
    }
   ],
   "source": [
    "#we look at only the interactions with errors of clients who reached the confirm stage in the test group\n",
    "cursor.execute(\"\"\"\n",
    "                  SELECT \n",
    "    clients.client_id,\n",
    "    interactions.visit_id,\n",
    "    interactions.process_step,\n",
    "    group_id.variation,\n",
    "    COUNT(*) AS attempts\n",
    "FROM clients\n",
    "JOIN interactions ON clients.client_id = interactions.client_id\n",
    "JOIN group_id ON group_id.client_id = clients.client_id\n",
    "WHERE group_id.variation IN ('Test')\n",
    " AND clients.client_id IN (\n",
    "        SELECT DISTINCT clients.client_id \n",
    "        FROM clients\n",
    "        JOIN interactions ON clients.client_id = interactions.client_id\n",
    "        WHERE interactions.process_step = '4')\n",
    "GROUP BY \n",
    "    clients.client_id,\n",
    "    interactions.visit_id,\n",
    "    interactions.process_step,\n",
    "    group_id.variation;\n",
    "             \"\"\")\n",
    "\n",
    "results = cursor.fetchall()\n",
    "\n",
    "all_finished_test = pd.DataFrame(results)\n",
    "\n",
    "len(all_finished_test)"
   ]
  },
  {
   "cell_type": "code",
   "execution_count": 73,
   "id": "caa90358",
   "metadata": {},
   "outputs": [
    {
     "data": {
      "text/plain": [
       "13.77"
      ]
     },
     "execution_count": 73,
     "metadata": {},
     "output_type": "execute_result"
    }
   ],
   "source": [
    "error_rate_confirmers_in_test = round(len(errors_finished_test)/len(all_finished_test)*100,2)\n",
    "error_rate_confirmers_in_test"
   ]
  },
  {
   "cell_type": "code",
   "execution_count": 69,
   "id": "380d2245",
   "metadata": {},
   "outputs": [
    {
     "data": {
      "text/plain": [
       "14545"
      ]
     },
     "execution_count": 69,
     "metadata": {},
     "output_type": "execute_result"
    }
   ],
   "source": [
    "#we look at only the interactions with errors of clients who reached the confirm stage in the control group\n",
    "cursor.execute(\"\"\"\n",
    "                  SELECT \n",
    "    clients.client_id,\n",
    "    interactions.visit_id,\n",
    "    interactions.process_step,\n",
    "    group_id.variation,\n",
    "    COUNT(*) AS attempts\n",
    "FROM clients\n",
    "JOIN interactions ON clients.client_id = interactions.client_id\n",
    "JOIN group_id ON group_id.client_id = clients.client_id\n",
    "WHERE group_id.variation IN ('Control')\n",
    " AND clients.client_id IN (\n",
    "        SELECT DISTINCT clients.client_id \n",
    "        FROM clients\n",
    "        JOIN interactions ON clients.client_id = interactions.client_id\n",
    "        WHERE interactions.process_step = '4')\n",
    "GROUP BY \n",
    "    clients.client_id,\n",
    "    interactions.visit_id,\n",
    "    interactions.process_step,\n",
    "    group_id.variation\n",
    "HAVING COUNT(*) > 1;\n",
    "             \"\"\")\n",
    "\n",
    "results = cursor.fetchall()\n",
    "\n",
    "errors_finished_control = pd.DataFrame(results)\n",
    "\n",
    "len(errors_finished_control)"
   ]
  },
  {
   "cell_type": "code",
   "execution_count": 70,
   "id": "f2fcbc7e",
   "metadata": {},
   "outputs": [
    {
     "data": {
      "text/plain": [
       "87324"
      ]
     },
     "execution_count": 70,
     "metadata": {},
     "output_type": "execute_result"
    }
   ],
   "source": [
    "#we look at only the interactions with errors of clients who reached the confirm stage in the control group\n",
    "cursor.execute(\"\"\"\n",
    "                  SELECT \n",
    "    clients.client_id,\n",
    "    interactions.visit_id,\n",
    "    interactions.process_step,\n",
    "    group_id.variation,\n",
    "    COUNT(*) AS attempts\n",
    "FROM clients\n",
    "JOIN interactions ON clients.client_id = interactions.client_id\n",
    "JOIN group_id ON group_id.client_id = clients.client_id\n",
    "WHERE group_id.variation IN ('Control')\n",
    " AND clients.client_id IN (\n",
    "        SELECT DISTINCT clients.client_id \n",
    "        FROM clients\n",
    "        JOIN interactions ON clients.client_id = interactions.client_id\n",
    "        WHERE interactions.process_step = '4')\n",
    "GROUP BY \n",
    "    clients.client_id,\n",
    "    interactions.visit_id,\n",
    "    interactions.process_step,\n",
    "    group_id.variation;\n",
    "             \"\"\")\n",
    "\n",
    "results = cursor.fetchall()\n",
    "\n",
    "all_finished_control = pd.DataFrame(results)\n",
    "\n",
    "len(all_finished_control)"
   ]
  },
  {
   "cell_type": "code",
   "execution_count": 72,
   "id": "be5a3043",
   "metadata": {},
   "outputs": [
    {
     "data": {
      "text/plain": [
       "16.66"
      ]
     },
     "execution_count": 72,
     "metadata": {},
     "output_type": "execute_result"
    }
   ],
   "source": [
    "error_rate_confirmers_in_control = round(len(errors_finished_control)/len(all_finished_control)*100,2)\n",
    "error_rate_confirmers_in_control"
   ]
  },
  {
   "cell_type": "markdown",
   "id": "ee1f5189",
   "metadata": {},
   "source": [
    "# Conclusions\n",
    "\n",
    "We define interaction as: activity or engagement between the client and the step in the process being analyzed. \n",
    "So attempting step 3 4 times is one interaction.\n",
    "\n",
    "We define error as an interaction with a step attempt higher than 1,indicating possible confusion or errors. So attempting step 3 4 times is considered an error.\n",
    "\n",
    "We define non-error as an interaction with a step attempt equal to 1. So attempting step 3 one time is considered non-error, \n",
    "even if they abandon the process at that step.\n"
   ]
  },
  {
   "cell_type": "markdown",
   "id": "e2134cf3",
   "metadata": {},
   "source": [
    "## chi-square\n",
    "The null hypothesis (H0):there is NO difference in the proportions of errors between the two groups\n",
    "\n",
    "Alternative hypothesis (H1):there IS a difference in the proportions of errors between the two groups\n",
    "\n",
    "## t-test\n",
    "The null hypothesis (H0): any observed difference in error rates between the control and test groups is attributed to random chance or sampling variability\n",
    "\n",
    "Alternative hypothesis (H1): any observed difference in error rates between the control and test groups is NOT attributed to random chance or sampling variability\n",
    "\n",
    "α = 0.05"
   ]
  },
  {
   "cell_type": "code",
   "execution_count": 75,
   "id": "c13fe731",
   "metadata": {},
   "outputs": [
    {
     "name": "stdout",
     "output_type": "stream",
     "text": [
      "The error rate for the test group is: 22.46%\n",
      "The error rate for the control group is: 19.61%\n",
      "The error rate of all completed processes is: 17.53%\n",
      "The error rate for the test group that completed the process is: 13.77%\n",
      "The error rate for the control group that completed the process is: 16.66%\n"
     ]
    }
   ],
   "source": [
    "print(f\"The error rate for the test group is: {test_error_rate}%\") \n",
    "print(f\"The error rate for the control group is: {control_error_rate}%\") \n",
    "\n",
    "\n",
    "print(f\"The error rate of all completed processes is: {error_rate_confirmers}%\") \n",
    "print(f\"The error rate for the test group that completed the process is: {error_rate_confirmers_in_test}%\") \n",
    "print(f\"The error rate for the control group that completed the process is: {error_rate_confirmers_in_control}%\") "
   ]
  },
  {
   "cell_type": "markdown",
   "id": "8cd59df1",
   "metadata": {},
   "source": [
    "The control group had a lower error rate than the test group, meaning the control group was less likely to visit a step more than once. This could be due to previous familiarity with the process, where in the test group the process has changes to what they're used to."
   ]
  },
  {
   "cell_type": "code",
   "execution_count": 51,
   "id": "41b78ea4",
   "metadata": {},
   "outputs": [
    {
     "name": "stdout",
     "output_type": "stream",
     "text": [
      "Chi-square statistic: 288.9068783607042\n",
      "p-value: 2.303817813154474e-47\n",
      "T-test result:\n",
      "T-statistic: -14.459045\n",
      "P-value: 2.303818e-47\n"
     ]
    }
   ],
   "source": [
    "print(\"Chi-square statistic:\", chi2)\n",
    "print(\"p-value:\", p_value)\n",
    "\n",
    "\n",
    "print(\"T-test result:\")\n",
    "print(f\"T-statistic: {t_statistic:.6f}\")\n",
    "print(f\"P-value: {p_value:.6e}\")"
   ]
  },
  {
   "cell_type": "markdown",
   "id": "ed2c2619",
   "metadata": {},
   "source": [
    "For chi-test we can reject the null hypothesis. This suggests that there is a statistically significant difference in the proportions of errors between the control and test groups.\n",
    "\n",
    "For t-test: we can reject the null hypothesis. This suggests any observed difference in error rates between the control and test groups is NOT attributed to random chance or sampling variability."
   ]
  }
 ],
 "metadata": {
  "kernelspec": {
   "display_name": "Python 3 (ipykernel)",
   "language": "python",
   "name": "python3"
  },
  "language_info": {
   "codemirror_mode": {
    "name": "ipython",
    "version": 3
   },
   "file_extension": ".py",
   "mimetype": "text/x-python",
   "name": "python",
   "nbconvert_exporter": "python",
   "pygments_lexer": "ipython3",
   "version": "3.11.7"
  }
 },
 "nbformat": 4,
 "nbformat_minor": 5
}
