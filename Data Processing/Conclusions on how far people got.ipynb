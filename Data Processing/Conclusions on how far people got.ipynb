{
 "cells": [
  {
   "cell_type": "code",
   "execution_count": 1,
   "id": "6414b5a6",
   "metadata": {},
   "outputs": [],
   "source": [
    "import pandas as pd\n",
    "import matplotlib.pyplot as plt\n",
    "import seaborn as sns\n",
    "import numpy as np\n",
    "from sqlalchemy import create_engine\n",
    "import mysql.connector\n",
    "import pickle\n",
    "\n",
    "%matplotlib inline"
   ]
  },
  {
   "cell_type": "code",
   "execution_count": 2,
   "id": "d67e2ac8",
   "metadata": {},
   "outputs": [
    {
     "name": "stdout",
     "output_type": "stream",
     "text": [
      "········\n"
     ]
    }
   ],
   "source": [
    "import getpass  # To get the password without showing the input\n",
    "password = getpass.getpass()"
   ]
  },
  {
   "cell_type": "code",
   "execution_count": 3,
   "id": "1a65779b",
   "metadata": {},
   "outputs": [],
   "source": [
    "# Connect to MySQL database\n",
    "conn = mysql.connector.connect(host='127.0.0.1', user='root', passwd=password)\n",
    "cursor = conn.cursor()\n",
    "\n",
    "#Select the database\n",
    "cursor.execute(\"USE vanguard\")"
   ]
  },
  {
   "cell_type": "code",
   "execution_count": 4,
   "id": "213a5377",
   "metadata": {},
   "outputs": [],
   "source": [
    "cursor.execute(\"\"\"\n",
    "                    SELECT clients.client_id,\n",
    "                        clients.clnt_age, \n",
    "                        clients.gendr, \n",
    "                        COUNT(distinct(interactions.process_step)) AS count_of_steps,\n",
    "                        group_id.variation\n",
    "                    FROM clients\n",
    "                    JOIN interactions\n",
    "                    ON clients.client_id = interactions.client_id\n",
    "                    INNER JOIN group_id\n",
    "                    ON group_id.client_id = clients.client_id\n",
    "                    GROUP BY clients.client_id, clients.clnt_age, clients.gendr,group_id.variation;\n",
    "\n",
    "                    \"\"\")\n",
    "results = cursor.fetchall()\n",
    "\n",
    "how_far = pd.DataFrame(results)"
   ]
  },
  {
   "cell_type": "code",
   "execution_count": 11,
   "id": "c0070c8d",
   "metadata": {},
   "outputs": [
    {
     "data": {
      "text/plain": [
       "(steps_reached\n",
       " 5    0.664238\n",
       " 1    0.118436\n",
       " 4    0.093129\n",
       " 2    0.069347\n",
       " 3    0.054851\n",
       " Name: proportion, dtype: float64,\n",
       " steps_reached\n",
       " 5    33544\n",
       " 1     5981\n",
       " 4     4703\n",
       " 2     3502\n",
       " 3     2770\n",
       " Name: count, dtype: int64)"
      ]
     },
     "execution_count": 11,
     "metadata": {},
     "output_type": "execute_result"
    }
   ],
   "source": [
    "#rename columns to be descriptive\n",
    "\n",
    "how_far.rename(columns = {0:'client_id',1:'age',2:'gender',3:'steps_reached',4:'group_status'},inplace=True)\n",
    "how_far\n",
    "\n",
    "# Frequency table \n",
    "frequency_table = how_far['steps_reached'].value_counts()\n",
    "\n",
    "# Calculating the proportion of people that reached and stopped at each step\n",
    "proportion_table = how_far['steps_reached'].value_counts(normalize=True)\n",
    "\n",
    "proportion_table, frequency_table\n"
   ]
  },
  {
   "cell_type": "code",
   "execution_count": 12,
   "id": "b6d093ed",
   "metadata": {},
   "outputs": [
    {
     "data": {
      "text/html": [
       "<div>\n",
       "<style scoped>\n",
       "    .dataframe tbody tr th:only-of-type {\n",
       "        vertical-align: middle;\n",
       "    }\n",
       "\n",
       "    .dataframe tbody tr th {\n",
       "        vertical-align: top;\n",
       "    }\n",
       "\n",
       "    .dataframe thead th {\n",
       "        text-align: right;\n",
       "    }\n",
       "</style>\n",
       "<table border=\"1\" class=\"dataframe\">\n",
       "  <thead>\n",
       "    <tr style=\"text-align: right;\">\n",
       "      <th></th>\n",
       "      <th>client_id</th>\n",
       "      <th>age</th>\n",
       "      <th>gender</th>\n",
       "      <th>steps_reached</th>\n",
       "      <th>group_status</th>\n",
       "    </tr>\n",
       "  </thead>\n",
       "  <tbody>\n",
       "    <tr>\n",
       "      <th>0</th>\n",
       "      <td>1000062</td>\n",
       "      <td>52.5</td>\n",
       "      <td>F</td>\n",
       "      <td>5</td>\n",
       "      <td>Control</td>\n",
       "    </tr>\n",
       "    <tr>\n",
       "      <th>1</th>\n",
       "      <td>1000353</td>\n",
       "      <td>59.0</td>\n",
       "      <td>U</td>\n",
       "      <td>5</td>\n",
       "      <td>Control</td>\n",
       "    </tr>\n",
       "    <tr>\n",
       "      <th>2</th>\n",
       "      <td>1000536</td>\n",
       "      <td>27.0</td>\n",
       "      <td>U</td>\n",
       "      <td>5</td>\n",
       "      <td>Control</td>\n",
       "    </tr>\n",
       "    <tr>\n",
       "      <th>3</th>\n",
       "      <td>1000672</td>\n",
       "      <td>65.5</td>\n",
       "      <td>F</td>\n",
       "      <td>5</td>\n",
       "      <td>Control</td>\n",
       "    </tr>\n",
       "    <tr>\n",
       "      <th>4</th>\n",
       "      <td>1001101</td>\n",
       "      <td>61.5</td>\n",
       "      <td>M</td>\n",
       "      <td>5</td>\n",
       "      <td>Test</td>\n",
       "    </tr>\n",
       "    <tr>\n",
       "      <th>...</th>\n",
       "      <td>...</td>\n",
       "      <td>...</td>\n",
       "      <td>...</td>\n",
       "      <td>...</td>\n",
       "      <td>...</td>\n",
       "    </tr>\n",
       "    <tr>\n",
       "      <th>50495</th>\n",
       "      <td>9999150</td>\n",
       "      <td>30.0</td>\n",
       "      <td>U</td>\n",
       "      <td>2</td>\n",
       "      <td>Test</td>\n",
       "    </tr>\n",
       "    <tr>\n",
       "      <th>50496</th>\n",
       "      <td>9999400</td>\n",
       "      <td>28.5</td>\n",
       "      <td>U</td>\n",
       "      <td>5</td>\n",
       "      <td>Test</td>\n",
       "    </tr>\n",
       "    <tr>\n",
       "      <th>50497</th>\n",
       "      <td>9999626</td>\n",
       "      <td>35.0</td>\n",
       "      <td>M</td>\n",
       "      <td>2</td>\n",
       "      <td>Test</td>\n",
       "    </tr>\n",
       "    <tr>\n",
       "      <th>50498</th>\n",
       "      <td>9999729</td>\n",
       "      <td>31.0</td>\n",
       "      <td>F</td>\n",
       "      <td>5</td>\n",
       "      <td>Test</td>\n",
       "    </tr>\n",
       "    <tr>\n",
       "      <th>50499</th>\n",
       "      <td>9999832</td>\n",
       "      <td>49.0</td>\n",
       "      <td>F</td>\n",
       "      <td>2</td>\n",
       "      <td>Test</td>\n",
       "    </tr>\n",
       "  </tbody>\n",
       "</table>\n",
       "<p>50500 rows × 5 columns</p>\n",
       "</div>"
      ],
      "text/plain": [
       "      client_id   age gender  steps_reached group_status\n",
       "0       1000062  52.5      F              5      Control\n",
       "1       1000353  59.0      U              5      Control\n",
       "2       1000536  27.0      U              5      Control\n",
       "3       1000672  65.5      F              5      Control\n",
       "4       1001101  61.5      M              5         Test\n",
       "...         ...   ...    ...            ...          ...\n",
       "50495   9999150  30.0      U              2         Test\n",
       "50496   9999400  28.5      U              5         Test\n",
       "50497   9999626  35.0      M              2         Test\n",
       "50498   9999729  31.0      F              5         Test\n",
       "50499   9999832  49.0      F              2         Test\n",
       "\n",
       "[50500 rows x 5 columns]"
      ]
     },
     "execution_count": 12,
     "metadata": {},
     "output_type": "execute_result"
    }
   ],
   "source": [
    "how_far"
   ]
  },
  {
   "cell_type": "code",
   "execution_count": 14,
   "id": "f2f21b96",
   "metadata": {},
   "outputs": [
    {
     "data": {
      "text/plain": [
       "<Axes: xlabel='steps_reached,group_status'>"
      ]
     },
     "execution_count": 14,
     "metadata": {},
     "output_type": "execute_result"
    },
    {
     "data": {
      "image/png": "[encoded data removed]",
      "text/plain": [
       "<Figure size 640x480 with 1 Axes>"
      ]
     },
     "metadata": {},
     "output_type": "display_data"
    }
   ],
   "source": [
    "proportion_status = how_far[['steps_reached','group_status']].value_counts(normalize=True)\n",
    "proportion_percent = proportion_status * 100 \n",
    "proportion_percent\n",
    "\n",
    "#bar with test groups proportions\n",
    "proportion_percent.plot(kind=\"bar\")\n"
   ]
  },
  {
   "cell_type": "markdown",
   "id": "043b7060",
   "metadata": {},
   "source": [
    "How to calculate abandonment rate Abandonment rate = (Number of intended tasks completed) / (Number of intended tasks initiated) x 100\n",
    "\n",
    "How to calculate cart abandonment rate for ecommerce stores\n",
    "\n",
    "Cart abandonment rate = (Number of carts abandoned / Number of orders initiated) x 100"
   ]
  },
  {
   "cell_type": "code",
   "execution_count": 16,
   "id": "c192af43",
   "metadata": {},
   "outputs": [
    {
     "data": {
      "text/plain": [
       "steps_reached\n",
       "5    33544\n",
       "1     5981\n",
       "4     4703\n",
       "2     3502\n",
       "3     2770\n",
       "Name: count, dtype: int64"
      ]
     },
     "execution_count": 16,
     "metadata": {},
     "output_type": "execute_result"
    }
   ],
   "source": [
    "proportion_status\n",
    "\n",
    "how_far['steps_reached'].value_counts()"
   ]
  },
  {
   "cell_type": "code",
   "execution_count": 25,
   "id": "3abe5828",
   "metadata": {},
   "outputs": [
    {
     "name": "stdout",
     "output_type": "stream",
     "text": [
      "Abandonment rate: 33.58%\n",
      "Completion rate: 66.42%\n"
     ]
    }
   ],
   "source": [
    "#assuming everyone who completed went through all 5 steps\n",
    "completed =  33544\n",
    "dnf = 16956\n",
    "initiated = 50500\n",
    "\n",
    "# Calculate abandonment rate\n",
    "abandonment_rate = (dnf / initiated) * 100\n",
    "completion_rate = (completed / initiated) * 100\n",
    "\n",
    "# Print abandonment rate\n",
    "print(\"Abandonment rate of full group: {:.2f}%\".format(abandonment_rate))\n",
    "print(\"Completion rate of full group: {:.2f}%\".format(completion_rate))\n",
    "\n"
   ]
  },
  {
   "cell_type": "code",
   "execution_count": 28,
   "id": "f7113dd1",
   "metadata": {},
   "outputs": [
    {
     "data": {
      "text/html": [
       "<div>\n",
       "<style scoped>\n",
       "    .dataframe tbody tr th:only-of-type {\n",
       "        vertical-align: middle;\n",
       "    }\n",
       "\n",
       "    .dataframe tbody tr th {\n",
       "        vertical-align: top;\n",
       "    }\n",
       "\n",
       "    .dataframe thead th {\n",
       "        text-align: right;\n",
       "    }\n",
       "</style>\n",
       "<table border=\"1\" class=\"dataframe\">\n",
       "  <thead>\n",
       "    <tr style=\"text-align: right;\">\n",
       "      <th></th>\n",
       "      <th>0</th>\n",
       "      <th>1</th>\n",
       "    </tr>\n",
       "  </thead>\n",
       "  <tbody>\n",
       "    <tr>\n",
       "      <th>0</th>\n",
       "      <td>4033851</td>\n",
       "      <td>3</td>\n",
       "    </tr>\n",
       "    <tr>\n",
       "      <th>1</th>\n",
       "      <td>6651403</td>\n",
       "      <td>1</td>\n",
       "    </tr>\n",
       "    <tr>\n",
       "      <th>2</th>\n",
       "      <td>2105948</td>\n",
       "      <td>1</td>\n",
       "    </tr>\n",
       "    <tr>\n",
       "      <th>3</th>\n",
       "      <td>9814849</td>\n",
       "      <td>1</td>\n",
       "    </tr>\n",
       "    <tr>\n",
       "      <th>4</th>\n",
       "      <td>4446011</td>\n",
       "      <td>1</td>\n",
       "    </tr>\n",
       "    <tr>\n",
       "      <th>...</th>\n",
       "      <td>...</td>\n",
       "      <td>...</td>\n",
       "    </tr>\n",
       "    <tr>\n",
       "      <th>15429</th>\n",
       "      <td>1011862</td>\n",
       "      <td>4</td>\n",
       "    </tr>\n",
       "    <tr>\n",
       "      <th>15430</th>\n",
       "      <td>8930684</td>\n",
       "      <td>1</td>\n",
       "    </tr>\n",
       "    <tr>\n",
       "      <th>15431</th>\n",
       "      <td>4840338</td>\n",
       "      <td>3</td>\n",
       "    </tr>\n",
       "    <tr>\n",
       "      <th>15432</th>\n",
       "      <td>4210290</td>\n",
       "      <td>1</td>\n",
       "    </tr>\n",
       "    <tr>\n",
       "      <th>15433</th>\n",
       "      <td>1684561</td>\n",
       "      <td>1</td>\n",
       "    </tr>\n",
       "  </tbody>\n",
       "</table>\n",
       "<p>15434 rows × 2 columns</p>\n",
       "</div>"
      ],
      "text/plain": [
       "             0  1\n",
       "0      4033851  3\n",
       "1      6651403  1\n",
       "2      2105948  1\n",
       "3      9814849  1\n",
       "4      4446011  1\n",
       "...        ... ..\n",
       "15429  1011862  4\n",
       "15430  8930684  1\n",
       "15431  4840338  3\n",
       "15432  4210290  1\n",
       "15433  1684561  1\n",
       "\n",
       "[15434 rows x 2 columns]"
      ]
     },
     "execution_count": 28,
     "metadata": {},
     "output_type": "execute_result"
    }
   ],
   "source": [
    "with open('control_dnf.pkl', 'rb') as f:\n",
    "    control_dnf = pickle.load(f)\n",
    "\n",
    "control_dnf\n",
    "\n",
    "with open('control_confirmed.pkl', 'rb') as f:\n",
    "    control_confirmed = pickle.load(f)\n",
    "\n",
    "control_confirmed\n",
    "\n",
    "#8098 people from the control group abandoned the process\n",
    "#15434 people from the control group completed the process\n",
    "#the control group in total is 23532\n",
    "\n",
    "\n",
    "#assuming everyone who completed went through all 5 steps\n",
    "complete_control = 15434\n",
    "dnf_control = 8098\n",
    "initiated = 23532\n",
    "\n",
    "# Calculate abandonment rate\n",
    "abandonment_rate_control = (dnf_control / initiated) * 100\n",
    "completion_rate_control = (complete_control / initiated) * 100\n",
    "\n",
    "# Print abandonment rate\n",
    "print(\"Abandonment rate of control group: {:.2f}%\".format(abandonment_rate))\n",
    "print(\"Completion rate of control group: {:.2f}%\".format(completion_rate))\n"
   ]
  }
 ],
 "metadata": {
  "kernelspec": {
   "display_name": "Python 3 (ipykernel)",
   "language": "python",
   "name": "python3"
  },
  "language_info": {
   "codemirror_mode": {
    "name": "ipython",
    "version": 3
   },
   "file_extension": ".py",
   "mimetype": "text/x-python",
   "name": "python",
   "nbconvert_exporter": "python",
   "pygments_lexer": "ipython3",
   "version": "3.11.7"
  }
 },
 "nbformat": 4,
 "nbformat_minor": 5
}
