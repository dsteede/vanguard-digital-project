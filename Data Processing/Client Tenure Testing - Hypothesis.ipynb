{
 "cells": [
  {
   "cell_type": "code",
   "execution_count": 1,
   "id": "c311f676",
   "metadata": {},
   "outputs": [],
   "source": [
    "import pandas as pd\n",
    "from scipy import stats\n"
   ]
  },
  {
   "attachments": {},
   "cell_type": "markdown",
   "id": "377c2124",
   "metadata": {},
   "source": [
    "Null Hypothesis: Those using the new method have an average customer tenure (length of time with Vanguard) that is equal to that of those using the old process.\n",
    "\n",
    "Alternative Hypothesis: Those using the new method have a different average client tenure than those using the old process."
   ]
  },
  {
   "cell_type": "code",
   "execution_count": 2,
   "id": "35e0f7e9",
   "metadata": {
    "scrolled": false
   },
   "outputs": [
    {
     "name": "stderr",
     "output_type": "stream",
     "text": [
      "/var/folders/23/76v66l4s1xn769d5jn92h5mw0000gn/T/ipykernel_5157/1977228102.py:2: DtypeWarning: Columns (13) have mixed types. Specify dtype option on import or set low_memory=False.\n",
      "  data = pd.read_csv('full_data.csv')\n"
     ]
    },
    {
     "data": {
      "text/html": [
       "<div>\n",
       "<style scoped>\n",
       "    .dataframe tbody tr th:only-of-type {\n",
       "        vertical-align: middle;\n",
       "    }\n",
       "\n",
       "    .dataframe tbody tr th {\n",
       "        vertical-align: top;\n",
       "    }\n",
       "\n",
       "    .dataframe thead th {\n",
       "        text-align: right;\n",
       "    }\n",
       "</style>\n",
       "<table border=\"1\" class=\"dataframe\">\n",
       "  <thead>\n",
       "    <tr style=\"text-align: right;\">\n",
       "      <th></th>\n",
       "      <th>client_id</th>\n",
       "      <th>visitor_id</th>\n",
       "      <th>visit_id</th>\n",
       "      <th>process_step</th>\n",
       "      <th>date_time</th>\n",
       "      <th>tenure_year</th>\n",
       "      <th>tenure_month</th>\n",
       "      <th>clnt_age</th>\n",
       "      <th>gender</th>\n",
       "      <th>num_accts</th>\n",
       "      <th>balance</th>\n",
       "      <th>calls_6_mnth</th>\n",
       "      <th>logons_6_mnth</th>\n",
       "      <th>variation</th>\n",
       "    </tr>\n",
       "  </thead>\n",
       "  <tbody>\n",
       "    <tr>\n",
       "      <th>0</th>\n",
       "      <td>9988021</td>\n",
       "      <td>580560515_7732621733</td>\n",
       "      <td>781255054_21935453173_531117</td>\n",
       "      <td>step_3</td>\n",
       "      <td>2017-04-17 15:27:07</td>\n",
       "      <td>5.0</td>\n",
       "      <td>64.0</td>\n",
       "      <td>79.0</td>\n",
       "      <td>U</td>\n",
       "      <td>2.0</td>\n",
       "      <td>189023.86</td>\n",
       "      <td>1.0</td>\n",
       "      <td>4.0</td>\n",
       "      <td>Test</td>\n",
       "    </tr>\n",
       "    <tr>\n",
       "      <th>1</th>\n",
       "      <td>9988021</td>\n",
       "      <td>580560515_7732621733</td>\n",
       "      <td>781255054_21935453173_531117</td>\n",
       "      <td>step_2</td>\n",
       "      <td>2017-04-17 15:26:51</td>\n",
       "      <td>5.0</td>\n",
       "      <td>64.0</td>\n",
       "      <td>79.0</td>\n",
       "      <td>U</td>\n",
       "      <td>2.0</td>\n",
       "      <td>189023.86</td>\n",
       "      <td>1.0</td>\n",
       "      <td>4.0</td>\n",
       "      <td>Test</td>\n",
       "    </tr>\n",
       "    <tr>\n",
       "      <th>2</th>\n",
       "      <td>9988021</td>\n",
       "      <td>580560515_7732621733</td>\n",
       "      <td>781255054_21935453173_531117</td>\n",
       "      <td>step_3</td>\n",
       "      <td>2017-04-17 15:19:22</td>\n",
       "      <td>5.0</td>\n",
       "      <td>64.0</td>\n",
       "      <td>79.0</td>\n",
       "      <td>U</td>\n",
       "      <td>2.0</td>\n",
       "      <td>189023.86</td>\n",
       "      <td>1.0</td>\n",
       "      <td>4.0</td>\n",
       "      <td>Test</td>\n",
       "    </tr>\n",
       "    <tr>\n",
       "      <th>3</th>\n",
       "      <td>9988021</td>\n",
       "      <td>580560515_7732621733</td>\n",
       "      <td>781255054_21935453173_531117</td>\n",
       "      <td>step_2</td>\n",
       "      <td>2017-04-17 15:19:13</td>\n",
       "      <td>5.0</td>\n",
       "      <td>64.0</td>\n",
       "      <td>79.0</td>\n",
       "      <td>U</td>\n",
       "      <td>2.0</td>\n",
       "      <td>189023.86</td>\n",
       "      <td>1.0</td>\n",
       "      <td>4.0</td>\n",
       "      <td>Test</td>\n",
       "    </tr>\n",
       "    <tr>\n",
       "      <th>4</th>\n",
       "      <td>9988021</td>\n",
       "      <td>580560515_7732621733</td>\n",
       "      <td>781255054_21935453173_531117</td>\n",
       "      <td>step_3</td>\n",
       "      <td>2017-04-17 15:18:04</td>\n",
       "      <td>5.0</td>\n",
       "      <td>64.0</td>\n",
       "      <td>79.0</td>\n",
       "      <td>U</td>\n",
       "      <td>2.0</td>\n",
       "      <td>189023.86</td>\n",
       "      <td>1.0</td>\n",
       "      <td>4.0</td>\n",
       "      <td>Test</td>\n",
       "    </tr>\n",
       "    <tr>\n",
       "      <th>...</th>\n",
       "      <td>...</td>\n",
       "      <td>...</td>\n",
       "      <td>...</td>\n",
       "      <td>...</td>\n",
       "      <td>...</td>\n",
       "      <td>...</td>\n",
       "      <td>...</td>\n",
       "      <td>...</td>\n",
       "      <td>...</td>\n",
       "      <td>...</td>\n",
       "      <td>...</td>\n",
       "      <td>...</td>\n",
       "      <td>...</td>\n",
       "      <td>...</td>\n",
       "    </tr>\n",
       "    <tr>\n",
       "      <th>744636</th>\n",
       "      <td>9668240</td>\n",
       "      <td>388766751_9038881013</td>\n",
       "      <td>922267647_3096648104_968866</td>\n",
       "      <td>start</td>\n",
       "      <td>2017-05-24 18:46:10</td>\n",
       "      <td>NaN</td>\n",
       "      <td>NaN</td>\n",
       "      <td>NaN</td>\n",
       "      <td>NaN</td>\n",
       "      <td>NaN</td>\n",
       "      <td>NaN</td>\n",
       "      <td>NaN</td>\n",
       "      <td>NaN</td>\n",
       "      <td>NaN</td>\n",
       "    </tr>\n",
       "    <tr>\n",
       "      <th>744637</th>\n",
       "      <td>9668240</td>\n",
       "      <td>388766751_9038881013</td>\n",
       "      <td>922267647_3096648104_968866</td>\n",
       "      <td>start</td>\n",
       "      <td>2017-05-24 18:45:29</td>\n",
       "      <td>NaN</td>\n",
       "      <td>NaN</td>\n",
       "      <td>NaN</td>\n",
       "      <td>NaN</td>\n",
       "      <td>NaN</td>\n",
       "      <td>NaN</td>\n",
       "      <td>NaN</td>\n",
       "      <td>NaN</td>\n",
       "      <td>NaN</td>\n",
       "    </tr>\n",
       "    <tr>\n",
       "      <th>744638</th>\n",
       "      <td>9668240</td>\n",
       "      <td>388766751_9038881013</td>\n",
       "      <td>922267647_3096648104_968866</td>\n",
       "      <td>step_1</td>\n",
       "      <td>2017-05-24 18:44:51</td>\n",
       "      <td>NaN</td>\n",
       "      <td>NaN</td>\n",
       "      <td>NaN</td>\n",
       "      <td>NaN</td>\n",
       "      <td>NaN</td>\n",
       "      <td>NaN</td>\n",
       "      <td>NaN</td>\n",
       "      <td>NaN</td>\n",
       "      <td>NaN</td>\n",
       "    </tr>\n",
       "    <tr>\n",
       "      <th>744639</th>\n",
       "      <td>9668240</td>\n",
       "      <td>388766751_9038881013</td>\n",
       "      <td>922267647_3096648104_968866</td>\n",
       "      <td>start</td>\n",
       "      <td>2017-05-24 18:44:34</td>\n",
       "      <td>NaN</td>\n",
       "      <td>NaN</td>\n",
       "      <td>NaN</td>\n",
       "      <td>NaN</td>\n",
       "      <td>NaN</td>\n",
       "      <td>NaN</td>\n",
       "      <td>NaN</td>\n",
       "      <td>NaN</td>\n",
       "      <td>NaN</td>\n",
       "    </tr>\n",
       "    <tr>\n",
       "      <th>744640</th>\n",
       "      <td>674799</td>\n",
       "      <td>947159805_81558194550</td>\n",
       "      <td>86152093_47511127657_716022</td>\n",
       "      <td>start</td>\n",
       "      <td>2017-06-03 12:17:09</td>\n",
       "      <td>NaN</td>\n",
       "      <td>NaN</td>\n",
       "      <td>NaN</td>\n",
       "      <td>NaN</td>\n",
       "      <td>NaN</td>\n",
       "      <td>NaN</td>\n",
       "      <td>NaN</td>\n",
       "      <td>NaN</td>\n",
       "      <td>NaN</td>\n",
       "    </tr>\n",
       "  </tbody>\n",
       "</table>\n",
       "<p>744641 rows × 14 columns</p>\n",
       "</div>"
      ],
      "text/plain": [
       "        client_id             visitor_id                      visit_id  \\\n",
       "0         9988021   580560515_7732621733  781255054_21935453173_531117   \n",
       "1         9988021   580560515_7732621733  781255054_21935453173_531117   \n",
       "2         9988021   580560515_7732621733  781255054_21935453173_531117   \n",
       "3         9988021   580560515_7732621733  781255054_21935453173_531117   \n",
       "4         9988021   580560515_7732621733  781255054_21935453173_531117   \n",
       "...           ...                    ...                           ...   \n",
       "744636    9668240   388766751_9038881013   922267647_3096648104_968866   \n",
       "744637    9668240   388766751_9038881013   922267647_3096648104_968866   \n",
       "744638    9668240   388766751_9038881013   922267647_3096648104_968866   \n",
       "744639    9668240   388766751_9038881013   922267647_3096648104_968866   \n",
       "744640     674799  947159805_81558194550   86152093_47511127657_716022   \n",
       "\n",
       "       process_step            date_time  tenure_year  tenure_month  clnt_age  \\\n",
       "0            step_3  2017-04-17 15:27:07          5.0          64.0      79.0   \n",
       "1            step_2  2017-04-17 15:26:51          5.0          64.0      79.0   \n",
       "2            step_3  2017-04-17 15:19:22          5.0          64.0      79.0   \n",
       "3            step_2  2017-04-17 15:19:13          5.0          64.0      79.0   \n",
       "4            step_3  2017-04-17 15:18:04          5.0          64.0      79.0   \n",
       "...             ...                  ...          ...           ...       ...   \n",
       "744636        start  2017-05-24 18:46:10          NaN           NaN       NaN   \n",
       "744637        start  2017-05-24 18:45:29          NaN           NaN       NaN   \n",
       "744638       step_1  2017-05-24 18:44:51          NaN           NaN       NaN   \n",
       "744639        start  2017-05-24 18:44:34          NaN           NaN       NaN   \n",
       "744640        start  2017-06-03 12:17:09          NaN           NaN       NaN   \n",
       "\n",
       "       gender  num_accts    balance  calls_6_mnth  logons_6_mnth variation  \n",
       "0           U        2.0  189023.86           1.0            4.0      Test  \n",
       "1           U        2.0  189023.86           1.0            4.0      Test  \n",
       "2           U        2.0  189023.86           1.0            4.0      Test  \n",
       "3           U        2.0  189023.86           1.0            4.0      Test  \n",
       "4           U        2.0  189023.86           1.0            4.0      Test  \n",
       "...       ...        ...        ...           ...            ...       ...  \n",
       "744636    NaN        NaN        NaN           NaN            NaN       NaN  \n",
       "744637    NaN        NaN        NaN           NaN            NaN       NaN  \n",
       "744638    NaN        NaN        NaN           NaN            NaN       NaN  \n",
       "744639    NaN        NaN        NaN           NaN            NaN       NaN  \n",
       "744640    NaN        NaN        NaN           NaN            NaN       NaN  \n",
       "\n",
       "[744641 rows x 14 columns]"
      ]
     },
     "execution_count": 2,
     "metadata": {},
     "output_type": "execute_result"
    }
   ],
   "source": [
    "# Step 1: Load the data\n",
    "data = pd.read_csv('full_data.csv')\n",
    "\n",
    "data"
   ]
  },
  {
   "cell_type": "code",
   "execution_count": 30,
   "id": "887c0510",
   "metadata": {},
   "outputs": [
    {
     "name": "stdout",
     "output_type": "stream",
     "text": [
      "    client_id variation process_step  tenure_year\n",
      "15    8320017      Test      confirm         22.0\n",
      "20    4033851   Control      confirm         12.0\n",
      "21    4033851   Control      confirm         12.0\n",
      "22    4033851   Control      confirm         12.0\n",
      "35    1982004      Test      confirm          6.0\n"
     ]
    }
   ],
   "source": [
    "# Filter columns\n",
    "relevant_columns = ['client_id', 'variation', 'process_step', 'tenure_year']\n",
    "data_relevant = data[relevant_columns]\n",
    "\n",
    "# Filter rows where process_step is confirmed\n",
    "data_confirmed = data_relevant[data_relevant['process_step'] == 'confirm']\n",
    "\n",
    "# Check the data\n",
    "print(data_confirmed.head())"
   ]
  },
  {
   "cell_type": "code",
   "execution_count": 31,
   "id": "148a47a0",
   "metadata": {},
   "outputs": [
    {
     "name": "stdout",
     "output_type": "stream",
     "text": [
      "        client_id variation process_step  tenure_year\n",
      "15        8320017      Test      confirm         22.0\n",
      "20        4033851   Control      confirm         12.0\n",
      "21        4033851   Control      confirm         12.0\n",
      "22        4033851   Control      confirm         12.0\n",
      "35        1982004      Test      confirm          6.0\n",
      "...           ...       ...          ...          ...\n",
      "744590    5550882       NaN      confirm          NaN\n",
      "744599    1462269       NaN      confirm          NaN\n",
      "744605    9563467       NaN      confirm          NaN\n",
      "744614    9895983       NaN      confirm         10.0\n",
      "744620    9668240       NaN      confirm          NaN\n",
      "\n",
      "[102506 rows x 4 columns]\n"
     ]
    }
   ],
   "source": [
    "# Reset display options to default values\n",
    "pd.reset_option('display.max_rows')\n",
    "pd.reset_option('display.max_columns')\n",
    "\n",
    "# Print the entire DataFrame\n",
    "print(data_confirmed)\n"
   ]
  },
  {
   "cell_type": "code",
   "execution_count": 32,
   "id": "a3823ffb",
   "metadata": {},
   "outputs": [
    {
     "name": "stdout",
     "output_type": "stream",
     "text": [
      "        client_id variation process_step  tenure_year\n",
      "15        8320017      Test      confirm         22.0\n",
      "20        4033851   Control      confirm         12.0\n",
      "21        4033851   Control      confirm         12.0\n",
      "22        4033851   Control      confirm         12.0\n",
      "35        1982004      Test      confirm          6.0\n",
      "...           ...       ...          ...          ...\n",
      "637723     338607      Test      confirm         18.0\n",
      "637865    5627725      Test      confirm          4.0\n",
      "637906    1129748   Control      confirm         12.0\n",
      "637947     433098   Control      confirm          6.0\n",
      "637960    1574008      Test      confirm         10.0\n",
      "\n",
      "[42924 rows x 4 columns]\n"
     ]
    }
   ],
   "source": [
    "# Remove rows with NaN values\n",
    "data_confirmed_cleaned = data_confirmed.dropna()\n",
    "\n",
    "# Check the cleaned data\n",
    "print(data_confirmed_cleaned)"
   ]
  },
  {
   "cell_type": "code",
   "execution_count": 40,
   "id": "8faceffc",
   "metadata": {
    "scrolled": true
   },
   "outputs": [
    {
     "name": "stdout",
     "output_type": "stream",
     "text": [
      "Confirmed Clients in Test Group:\n",
      "        client_id variation process_step  tenure_year\n",
      "15        8320017      test      confirm         22.0\n",
      "35        1982004      test      confirm          6.0\n",
      "48        3170143      test      confirm         21.0\n",
      "73        5887227      test      confirm          6.0\n",
      "98         438567      test      confirm         15.0\n",
      "...           ...       ...          ...          ...\n",
      "637467    1043717      test      confirm          9.0\n",
      "637697    3667184      test      confirm         14.0\n",
      "637723     338607      test      confirm         18.0\n",
      "637865    5627725      test      confirm          4.0\n",
      "637960    1574008      test      confirm         10.0\n",
      "\n",
      "[25600 rows x 4 columns]\n",
      "\n",
      "Confirmed Clients in Control Group:\n",
      "        client_id variation process_step  tenure_year\n",
      "20        4033851   control      confirm         12.0\n",
      "21        4033851   control      confirm         12.0\n",
      "22        4033851   control      confirm         12.0\n",
      "56        6651403   control      confirm         13.0\n",
      "81        2105948   control      confirm          6.0\n",
      "...           ...       ...          ...          ...\n",
      "637499    4271947   control      confirm         16.0\n",
      "637500    4271947   control      confirm         16.0\n",
      "637685    7066270   control      confirm          6.0\n",
      "637906    1129748   control      confirm         12.0\n",
      "637947     433098   control      confirm          6.0\n",
      "\n",
      "[17336 rows x 4 columns]\n"
     ]
    },
    {
     "name": "stderr",
     "output_type": "stream",
     "text": [
      "/var/folders/23/76v66l4s1xn769d5jn92h5mw0000gn/T/ipykernel_5157/3280152175.py:6: SettingWithCopyWarning: \n",
      "A value is trying to be set on a copy of a slice from a DataFrame.\n",
      "Try using .loc[row_indexer,col_indexer] = value instead\n",
      "\n",
      "See the caveats in the documentation: https://pandas.pydata.org/pandas-docs/stable/user_guide/indexing.html#returning-a-view-versus-a-copy\n",
      "  data_relevant['variation'] = data_relevant['variation'].str.strip().str.lower()\n"
     ]
    }
   ],
   "source": [
    "# Filter relevant columns\n",
    "relevant_columns = ['client_id', 'variation', 'process_step', 'tenure_year']\n",
    "data_relevant = data[relevant_columns]\n",
    "\n",
    "# Clean 'variation' column to remove leading/trailing whitespaces and convert to lowercase\n",
    "data_relevant['variation'] = data_relevant['variation'].str.strip().str.lower()\n",
    "\n",
    "# Filter rows where the 'process_step' column is 'confirm'\n",
    "confirmed_clients = data_relevant[data_relevant['process_step'] == 'confirm']\n",
    "\n",
    "# Separate confirmed clients by variance\n",
    "test_group_confirmed = confirmed_clients[confirmed_clients['variation'] == 'test']\n",
    "control_group_confirmed = confirmed_clients[confirmed_clients['variation'] == 'control']\n",
    "\n",
    "# Display the confirmed clients in the test group\n",
    "print(\"Confirmed Clients in Test Group:\")\n",
    "print(test_group_confirmed)\n",
    "\n",
    "# Display the confirmed clients in the control group\n",
    "print(\"\\nConfirmed Clients in Control Group:\")\n",
    "print(control_group_confirmed)"
   ]
  },
  {
   "cell_type": "code",
   "execution_count": 42,
   "id": "768b8f99",
   "metadata": {},
   "outputs": [],
   "source": [
    "import matplotlib.pyplot as plt"
   ]
  },
  {
   "cell_type": "code",
   "execution_count": 43,
   "id": "fe72a71f",
   "metadata": {},
   "outputs": [
    {
     "name": "stderr",
     "output_type": "stream",
     "text": [
      "/var/folders/23/76v66l4s1xn769d5jn92h5mw0000gn/T/ipykernel_5157/1077034546.py:6: SettingWithCopyWarning: \n",
      "A value is trying to be set on a copy of a slice from a DataFrame.\n",
      "Try using .loc[row_indexer,col_indexer] = value instead\n",
      "\n",
      "See the caveats in the documentation: https://pandas.pydata.org/pandas-docs/stable/user_guide/indexing.html#returning-a-view-versus-a-copy\n",
      "  data_relevant['variation'] = data_relevant['variation'].str.strip().str.lower()\n"
     ]
    },
    {
     "data": {
      "image/png": "[encoded data removed]",
      "text/plain": [
       "<Figure size 800x600 with 1 Axes>"
      ]
     },
     "metadata": {},
     "output_type": "display_data"
    }
   ],
   "source": [
    "#Number of confirmed clients in test and control groups.\n",
    "\n",
    "# Filter relevant columns\n",
    "relevant_columns = ['client_id', 'variation', 'process_step', 'tenure_year']\n",
    "data_relevant = data[relevant_columns]\n",
    "\n",
    "# Clean 'variation' column to remove leading/trailing whitespaces and convert to lowercase\n",
    "data_relevant['variation'] = data_relevant['variation'].str.strip().str.lower()\n",
    "\n",
    "# Filter rows where the 'process_step' column is 'confirm'\n",
    "confirmed_clients = data_relevant[data_relevant['process_step'] == 'confirm']\n",
    "\n",
    "# Separate confirmed clients by variance\n",
    "test_group_confirmed = confirmed_clients[confirmed_clients['variation'] == 'test']\n",
    "control_group_confirmed = confirmed_clients[confirmed_clients['variation'] == 'control']\n",
    "\n",
    "# Count the number of confirmed clients in each group\n",
    "test_counts = test_group_confirmed['client_id'].count()\n",
    "control_counts = control_group_confirmed['client_id'].count()\n",
    "\n",
    "# Create bar graph\n",
    "plt.figure(figsize=(8, 6))\n",
    "plt.bar(['Test Group', 'Control Group'], [test_counts, control_counts], color=['blue', 'orange'])\n",
    "plt.xlabel('Group')\n",
    "plt.ylabel('Number of Confirmed Clients')\n",
    "plt.title('Number of Confirmed Clients in Test and Control Groups')\n",
    "plt.show()\n"
   ]
  },
  {
   "cell_type": "code",
   "execution_count": 47,
   "id": "6a35e28c",
   "metadata": {
    "scrolled": false
   },
   "outputs": [
    {
     "name": "stderr",
     "output_type": "stream",
     "text": [
      "/var/folders/23/76v66l4s1xn769d5jn92h5mw0000gn/T/ipykernel_5157/534706201.py:6: SettingWithCopyWarning: \n",
      "A value is trying to be set on a copy of a slice from a DataFrame.\n",
      "Try using .loc[row_indexer,col_indexer] = value instead\n",
      "\n",
      "See the caveats in the documentation: https://pandas.pydata.org/pandas-docs/stable/user_guide/indexing.html#returning-a-view-versus-a-copy\n",
      "  data_relevant['variation'] = data_relevant['variation'].str.strip().str.lower()\n"
     ]
    },
    {
     "data": {
      "image/png": "[encoded data removed]",
      "text/plain": [
       "<Figure size 1000x600 with 1 Axes>"
      ]
     },
     "metadata": {},
     "output_type": "display_data"
    }
   ],
   "source": [
    "#Client Tenure Comparison between Control and Test Groups\n",
    "\n",
    "\n",
    "# Filter relevant columns\n",
    "relevant_columns = ['variation', 'process_step', 'tenure_year']\n",
    "data_relevant = data[relevant_columns]\n",
    "\n",
    "# Clean 'variation' column to remove leading/trailing whitespaces and convert to lowercase\n",
    "data_relevant['variation'] = data_relevant['variation'].str.strip().str.lower()\n",
    "\n",
    "# Filter rows where the 'process_step' column is 'confirm'\n",
    "confirmed_clients = data_relevant[data_relevant['process_step'] == 'confirm']\n",
    "\n",
    "# Separate confirmed clients by variance\n",
    "test_group_confirmed = confirmed_clients[confirmed_clients['variation'] == 'test']\n",
    "control_group_confirmed = confirmed_clients[confirmed_clients['variation'] == 'control']\n",
    "\n",
    "# Plot the distribution of tenure years for both groups\n",
    "plt.figure(figsize=(10, 6))\n",
    "plt.hist([test_group_confirmed['tenure_year'], control_group_confirmed['tenure_year']], \n",
    "         bins=range(int(min(data_relevant['tenure_year'])), int(max(data_relevant['tenure_year'])) + 1, 1), \n",
    "         color=['blue', 'orange'], label=['Test Group', 'Control Group'], alpha=0.7)\n",
    "plt.xlabel('Tenure Years')\n",
    "plt.ylabel('Number of Confirmed Clients')\n",
    "plt.title('Client Tenure Comparison between Control and Test Groups')\n",
    "plt.legend()\n",
    "plt.grid(True)\n",
    "plt.show()\n",
    "##"
   ]
  },
  {
   "cell_type": "code",
   "execution_count": 55,
   "id": "05800196",
   "metadata": {},
   "outputs": [],
   "source": [
    "# Remove missing values\n",
    "test_group_confirmed = test_group_confirmed.dropna(subset=['tenure_year'])\n",
    "control_group_confirmed = control_group_confirmed.dropna(subset=['tenure_year'])\n"
   ]
  },
  {
   "cell_type": "code",
   "execution_count": 58,
   "id": "2e70c9b3",
   "metadata": {
    "scrolled": true
   },
   "outputs": [
    {
     "name": "stderr",
     "output_type": "stream",
     "text": [
      "/var/folders/23/76v66l4s1xn769d5jn92h5mw0000gn/T/ipykernel_5157/1245822008.py:2: DtypeWarning: Columns (13) have mixed types. Specify dtype option on import or set low_memory=False.\n",
      "  data = pd.read_csv('full_data.csv')\n"
     ]
    },
    {
     "name": "stdout",
     "output_type": "stream",
     "text": [
      "T-statistic: 1.858530982484733\n",
      "P-value: 0.06310048820527\n"
     ]
    },
    {
     "name": "stderr",
     "output_type": "stream",
     "text": [
      "/var/folders/23/76v66l4s1xn769d5jn92h5mw0000gn/T/ipykernel_5157/1245822008.py:9: SettingWithCopyWarning: \n",
      "A value is trying to be set on a copy of a slice from a DataFrame.\n",
      "Try using .loc[row_indexer,col_indexer] = value instead\n",
      "\n",
      "See the caveats in the documentation: https://pandas.pydata.org/pandas-docs/stable/user_guide/indexing.html#returning-a-view-versus-a-copy\n",
      "  data_relevant['variation'] = data_relevant['variation'].str.strip().str.lower()\n"
     ]
    }
   ],
   "source": [
    "# Load the data\n",
    "data = pd.read_csv('full_data.csv')\n",
    "\n",
    "# Filter relevant columns\n",
    "relevant_columns = ['variation', 'process_step', 'tenure_year']\n",
    "data_relevant = data[relevant_columns]\n",
    "\n",
    "# Clean 'variation' column to remove leading/trailing whitespaces and convert to lowercase\n",
    "data_relevant['variation'] = data_relevant['variation'].str.strip().str.lower()\n",
    "\n",
    "# Filter rows where the 'process_step' column is 'confirm'\n",
    "confirmed_clients = data_relevant[data_relevant['process_step'] == 'confirm']\n",
    "\n",
    "# Separate confirmed clients by variance\n",
    "test_group_confirmed = confirmed_clients[confirmed_clients['variation'] == 'test']\n",
    "control_group_confirmed = confirmed_clients[confirmed_clients['variation'] == 'control']\n",
    "\n",
    "# Remove missing values\n",
    "test_group_confirmed = test_group_confirmed.dropna(subset=['tenure_year'])\n",
    "control_group_confirmed = control_group_confirmed.dropna(subset=['tenure_year'])\n",
    "\n",
    "# Perform two-sample t-test\n",
    "t_statistic, p_value = stats.ttest_ind(test_group_confirmed['tenure_year'], control_group_confirmed['tenure_year'])\n",
    "\n",
    "# Print t-statistic and p-value\n",
    "print(\"T-statistic:\", t_statistic)\n",
    "print(\"P-value:\", p_value)"
   ]
  },
  {
   "cell_type": "code",
   "execution_count": 69,
   "id": "2810c1dd",
   "metadata": {},
   "outputs": [
    {
     "name": "stdout",
     "output_type": "stream",
     "text": [
      "Reject the null hypothesis without success. The duration of clients does not significantly alter.\n"
     ]
    }
   ],
   "source": [
    "# Analyze the p-value to make a decision about the null hypothesis\n",
    "if p_value < 0.05:\n",
    "    print(\"Don't accept the null hypothesis. The duration of each client is significantly different.\")\n",
    "else:\n",
    "    print(\"Reject the null hypothesis without success. The duration of clients does not significantly alter.\")\n"
   ]
  },
  {
   "attachments": {},
   "cell_type": "markdown",
   "id": "53b5875b",
   "metadata": {},
   "source": [
    "## Conclusion\n",
    "\n",
    "The bar graph comparing the average client tenure between the control and test groups shows that there is no significant difference in the average tenure years between the two groups. Both the control and test groups have similar average tenure years, indicating that the intervention or treatment (represented by the test group) did not notably affect client tenure compared to the traditional process (represented by the control group). Therefore, based on this observation, there isn't enough evidence to support rejecting the null hypothesis that the duration of clients does not significantly alter between the control and test groups.\n",
    "\n",
    "Reject the null hypothesis without success. The duration of clients does not significantly alter."
   ]
  },
  {
   "cell_type": "markdown",
   "id": "137eacc3",
   "metadata": {},
   "source": [
    "After analyzing the data, we found no significant evidence to suggest that the new method leads to a different client tenure compared to the old method. While it's important to explore new approaches, in this case, the data suggests that both methods have similar outcomes in terms of client retention."
   ]
  }
 ],
 "metadata": {
  "kernelspec": {
   "display_name": "Python 3 (ipykernel)",
   "language": "python",
   "name": "python3"
  },
  "language_info": {
   "codemirror_mode": {
    "name": "ipython",
    "version": 3
   },
   "file_extension": ".py",
   "mimetype": "text/x-python",
   "name": "python",
   "nbconvert_exporter": "python",
   "pygments_lexer": "ipython3",
   "version": "3.11.7"
  }
 },
 "nbformat": 4,
 "nbformat_minor": 5
}
