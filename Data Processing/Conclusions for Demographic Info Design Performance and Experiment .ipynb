{
 "cells": [
  {
   "cell_type": "markdown",
   "id": "75f655f2",
   "metadata": {},
   "source": [
    "# EXPERIMENT EVALUATION"
   ]
  },
  {
   "cell_type": "markdown",
   "id": "51b8ccd4",
   "metadata": {},
   "source": [
    "## Conclusions  on Demographic Info\n",
    "\n",
    "After analyzing the clients' general demographic:\n",
    "\n",
    "> The average age and client tenure are evenly distributed in both the control and test groups. On average, the clients were middle age (51-52 yo) and have been with the company for 15 years.\n",
    "\n",
    "> Although male and female clients seem to be evenly distributed for both groups, there are too many clients with unknown gender for us to make any conclusions or corellations related to gender.\n",
    "\n",
    "> Despite the number of unknown genders, we believe the clients were divided equally between the two designs in order to get the best results."
   ]
  },
  {
   "cell_type": "markdown",
   "id": "5d5c6c1b",
   "metadata": {},
   "source": [
    "## Conclusions for KPIs\n",
    "\n",
    "#### Completion Rate\n",
    "   > - Although there was an increase in completion rate (3.7%) for the test group, it is not enough for it to be statistically significant and it did not exceed the 5% threshhold set by Vanguard.\n",
    "\n",
    "#### Abandonment Rate\n",
    "   > - The amount of people lost at start and step 3 vs the other steps indicate these two pages/steps in the process need to be evaluated for improvements because they are contributing the most to abandonment.\n",
    "\n",
    "#### Time Spent on each Step\n",
    "   > - In both variations, the average time spent on each step was longer as the client moved through the steps. This could be a defining factor if we want to reduce abandonment rate.\n",
    "\n",
    "   > - In the test group, the average time a client spent to reach confirmation was 9.7 minutes. However, the average time for the control group was 8.3 minutes. The main difference between the two groups is in the final (confirmation) step, which took much longer (on average) for the test group than it did for the control group. \n",
    "   > It is important to note that, in both groups, for confirmation step had many null values, which affect the average time.\n",
    "   > Why is that? Was there something added to the test group once the client completed the steps? More information needs to be gathered to get a better understanding of the process.\n",
    "   \n",
    "   > - From the data, we don't know if time spent on each step includes loading times. A good design should prioritize keeping loading times as small as possible. It would be interesting to collect data on loading times of the pages as part of the experiment.\n",
    "\n",
    "#### Error Rates\n",
    "\n",
    "   > - We define interaction as: activity or engagement between the client and the step in the process being analyzed. So attempting step 3 4 times is one interaction.\n",
    "\n",
    "   > - We define error as an interaction with a step attempt higher than 1, indicating possible confusion or errors. So attempting step 3 4 times is considered an error.\n",
    "\n",
    "   > - We define non-error as an interaction with a step attempt equal to 1. So attempting step 3 one time is considered non-error, even if they abandon the process at that step.\n",
    "   \n",
    "   > The error rate for the test group is: 22.46%\n",
    "   \n",
    "   > The error rate for the control group is: 19.61%\n",
    "   \n",
    "   > - The control group had a lower error rate than the test group, meaning the control group was less likely to visit a step more than once. This could be due to previous familiarity with the process, where in the test group the process has changes to what they're used to.\n",
    "\n",
    "   > - There is a statistically significant difference in the proportions of errors between the control and test groups. \n",
    "\n",
    "   > - Any observed difference in error rates between the control and test groups is NOT attributed to random chance or sampling variability.\n",
    "   \n",
    "#### Tenure Year\n",
    "\n",
    "   > - The average client tenure between the control and test groups shows that there is no significant difference in the average tenure years between the two groups. \n",
    "   > - Both the control and test groups have similar average tenure years, indicating that the updated interface did not notably affect client tenure compared to the traditional process (represented by the control group). \n",
    "   > - Therefore, based on this observation, there isn't enough evidence to support rejecting the null hypothesis that the duration of clients does not significantly alter between the control and test groups."
   ]
  },
  {
   "cell_type": "markdown",
   "id": "c384dcd5",
   "metadata": {},
   "source": [
    "## Conclusions Experiment Design\n",
    "\n",
    "After looking at all the data collected and our analysis as a whole:\n",
    "\n",
    "#### Design Effectiveness\n",
    "   > Experiment Structure:\n",
    "  \n",
    "   > The number of clients for each group should be the same. \n",
    "      > - It simplifies analysis\n",
    "      > - Minimizes bias (one group had more clients than the other)\n",
    "      > - Ensures statistical power\n",
    "  > Why were there so many unknown genders?\n",
    "\n",
    "#### Duration Assessment\n",
    "   > - Although a 3 month timeframe was enough to gather suffincient data for this particular experiment, a longer timeframe (6 months) would most likely provide more accurate numbers. \n",
    "   > - The most important factor to consider is the size of the sample the company wants to evaluate. \n",
    "\n",
    "#### Additional Data Needs or Recomendations\n",
    "   > - It would help to analyze the content and questions being displayed/requested in each step. \n",
    "   > - Is all the data being collected during the process necessary? \n",
    "   > - Are we making the client take more steps than needed or asking for duplicate info? Can we eliminate any steps and make the process shorter?\n",
    "   > - Create a survey for customer feedback"
   ]
  },
  {
   "cell_type": "code",
   "execution_count": null,
   "id": "88b22513",
   "metadata": {},
   "outputs": [],
   "source": []
  }
 ],
 "metadata": {
  "kernelspec": {
   "display_name": "Python 3 (ipykernel)",
   "language": "python",
   "name": "python3"
  },
  "language_info": {
   "codemirror_mode": {
    "name": "ipython",
    "version": 3
   },
   "file_extension": ".py",
   "mimetype": "text/x-python",
   "name": "python",
   "nbconvert_exporter": "python",
   "pygments_lexer": "ipython3",
   "version": "3.11.7"
  }
 },
 "nbformat": 4,
 "nbformat_minor": 5
}
