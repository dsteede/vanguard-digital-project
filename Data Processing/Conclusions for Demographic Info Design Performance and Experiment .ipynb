{
 "cells": [
  {
   "cell_type": "markdown",
   "id": "51b8ccd4",
   "metadata": {},
   "source": [
    "## Conclusions Demographic Info\n",
    "\n",
    "After graphing age, tenure and gender in tableau we conclude that:\n",
    "\n",
    "- average age and tenure are close enough in control and test group that we see a pretty good division of ages and client tenures in both groups\n",
    "- there are too many people with unknown gender for us to make any kind of good conclusions or corellations related to gender."
   ]
  },
  {
   "cell_type": "markdown",
   "id": "c384dcd5",
   "metadata": {},
   "source": [
    "## Conclusions Design Performance\n",
    "\n",
    "After looking at kpis between the old and new design, here are our thoughts:\n",
    "\n",
    "- The amount of people lost at start and step 3 vs the others indicate these two pages/steps in the process need to be evaluated for improvements because they are contributing the most to abandonment.\n",
    "- It would help to analyze the content and questions being displayed/requested each step. Is all the data being collected during the process necessary? Are we making the client take more steps than needed or asking for duplicate info? Can we eliminate any steps and make the process shorter?"
   ]
  },
  {
   "cell_type": "markdown",
   "id": "1a5fd6ed",
   "metadata": {},
   "source": [
    "## Conclusions Experiment Design\n",
    "\n",
    "After looking at all data collected and our analysis as a whole:\n",
    "- experiment length: \n",
    "- From the data, we don't know if time spent on each step includes loading times. Good design should prioritize keeping loading times as small as possible. It would be interesting to collect data on loading times of the pages as part of the experiment.\n"
   ]
  }
 ],
 "metadata": {
  "kernelspec": {
   "display_name": "Python 3 (ipykernel)",
   "language": "python",
   "name": "python3"
  },
  "language_info": {
   "codemirror_mode": {
    "name": "ipython",
    "version": 3
   },
   "file_extension": ".py",
   "mimetype": "text/x-python",
   "name": "python",
   "nbconvert_exporter": "python",
   "pygments_lexer": "ipython3",
   "version": "3.11.7"
  }
 },
 "nbformat": 4,
 "nbformat_minor": 5
}
